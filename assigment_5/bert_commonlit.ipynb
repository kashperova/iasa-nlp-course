{
  "cells": [
    {
      "cell_type": "markdown",
      "metadata": {
        "id": "view-in-github",
        "colab_type": "text"
      },
      "source": [
        "<a href=\"https://colab.research.google.com/github/kashperova/iasa-nlp-course/blob/main/assigment_5/bert_commonlit.ipynb\" target=\"_parent\"><img src=\"https://colab.research.google.com/assets/colab-badge.svg\" alt=\"Open In Colab\"/></a>"
      ]
    },
    {
      "cell_type": "code",
      "execution_count": null,
      "id": "8926715c",
      "metadata": {
        "execution": {
          "iopub.execute_input": "2023-10-30T05:34:41.569986Z",
          "iopub.status.busy": "2023-10-30T05:34:41.569159Z",
          "iopub.status.idle": "2023-10-30T05:34:59.294873Z",
          "shell.execute_reply": "2023-10-30T05:34:59.293864Z"
        },
        "id": "8926715c",
        "papermill": {
          "duration": 17.738713,
          "end_time": "2023-10-30T05:34:59.297464",
          "exception": false,
          "start_time": "2023-10-30T05:34:41.558751",
          "status": "completed"
        },
        "tags": [],
        "outputId": "e86bfa49-fd64-4773-c434-12a227041f3f"
      },
      "outputs": [
        {
          "name": "stderr",
          "output_type": "stream",
          "text": [
            "/opt/conda/lib/python3.10/site-packages/scipy/__init__.py:146: UserWarning: A NumPy version >=1.16.5 and <1.23.0 is required for this version of SciPy (detected version 1.23.5\n",
            "  warnings.warn(f\"A NumPy version >={np_minversion} and <{np_maxversion}\"\n"
          ]
        }
      ],
      "source": [
        "import pandas as pd\n",
        "import numpy as np\n",
        "import nltk\n",
        "import string\n",
        "import re\n",
        "import matplotlib.pyplot as plt\n",
        "from nltk.corpus import stopwords\n",
        "from nltk import pos_tag\n",
        "from nltk.tokenize import word_tokenize\n",
        "from sklearn.model_selection import train_test_split, GridSearchCV\n",
        "import pickle\n",
        "import torch\n",
        "from torch.utils.data import Dataset\n",
        "import torch.nn as nn\n",
        "from torch.nn.functional import mse_loss\n",
        "import matplotlib.pyplot as plt\n",
        "from sklearn.model_selection import GroupKFold\n",
        "from torch.utils.data import DataLoader\n",
        "import torch.nn.functional as F\n",
        "from transformers import BertModel, BertTokenizer\n",
        "import optuna"
      ]
    },
    {
      "cell_type": "code",
      "execution_count": null,
      "id": "99ee2c34",
      "metadata": {
        "execution": {
          "iopub.execute_input": "2023-10-30T05:34:59.316109Z",
          "iopub.status.busy": "2023-10-30T05:34:59.315814Z",
          "iopub.status.idle": "2023-10-30T05:34:59.500438Z",
          "shell.execute_reply": "2023-10-30T05:34:59.499457Z"
        },
        "id": "99ee2c34",
        "outputId": "531a738d-57ed-4fa8-a1ca-7cb74d744114",
        "papermill": {
          "duration": 0.196428,
          "end_time": "2023-10-30T05:34:59.502780",
          "exception": false,
          "start_time": "2023-10-30T05:34:59.306352",
          "status": "completed"
        },
        "tags": []
      },
      "outputs": [
        {
          "name": "stdout",
          "output_type": "stream",
          "text": [
            "[nltk_data] Downloading package punkt to /usr/share/nltk_data...\n",
            "[nltk_data]   Package punkt is already up-to-date!\n"
          ]
        },
        {
          "data": {
            "text/plain": [
              "True"
            ]
          },
          "execution_count": 2,
          "metadata": {},
          "output_type": "execute_result"
        }
      ],
      "source": [
        "import nltk\n",
        "nltk.download('punkt')"
      ]
    },
    {
      "cell_type": "markdown",
      "id": "9a35a6f9",
      "metadata": {
        "id": "9a35a6f9",
        "papermill": {
          "duration": 0.009628,
          "end_time": "2023-10-30T05:34:59.521753",
          "exception": false,
          "start_time": "2023-10-30T05:34:59.512125",
          "status": "completed"
        },
        "tags": []
      },
      "source": [
        "# Transformers\n",
        "\n",
        "### Wording features description\n",
        "- <b>wording</b> - target summary score\n",
        "- <b>prompt_id</b> - id of prompt to summarize\n",
        "- <b>text</b> - preprocessed joined text of student's summary, prompt text, prompt title\n",
        "- <b>cite</b> - whether is proposed in prompt question to cite evidence from the text.\n",
        "- <b>mistakes</b> - amount of spelling correction\n",
        "- <b>n_sentences</b> - amount of sentences in summary\n",
        "- <b>unique_word_count</b> - amount of unique words in student's summary\n",
        "- <b>adj_adv_count</b> - amount of adjectives and adverbs in student's summary\n",
        "- <b>fk_score</b> - Flesch-Kincaid readability score in student's summary\n",
        "\n",
        "### Content features description\n",
        "- <b>content</b> - target summary score\n",
        "- <b>prompt_id</b> - id of prompt to summarize\n",
        "- <b>text</b> - preprocessed joined text of student's summary, prompt text, prompt title\n",
        "- <b>mistakes</b> - amount of spelling correction\n",
        "- <b>n_sentences</b> - amount of sentences in summary\n",
        "- <b>punctuation_count</b> - amount of punctuation in student's summary\n",
        "- <b>unique_word_count</b> - amount of unique words in student's summary\n",
        "- <b>adj_adv_count</b> - amount of adjectives and adverbs in student's summary"
      ]
    },
    {
      "cell_type": "code",
      "execution_count": null,
      "id": "ead56def",
      "metadata": {
        "execution": {
          "iopub.execute_input": "2023-10-30T05:34:59.541329Z",
          "iopub.status.busy": "2023-10-30T05:34:59.540985Z",
          "iopub.status.idle": "2023-10-30T05:35:00.190746Z",
          "shell.execute_reply": "2023-10-30T05:35:00.189718Z"
        },
        "id": "ead56def",
        "outputId": "f864d9c8-73e6-4115-90e5-794597b804c7",
        "papermill": {
          "duration": 0.661692,
          "end_time": "2023-10-30T05:35:00.192845",
          "exception": false,
          "start_time": "2023-10-30T05:34:59.531153",
          "status": "completed"
        },
        "tags": []
      },
      "outputs": [
        {
          "data": {
            "text/html": [
              "<div>\n",
              "<style scoped>\n",
              "    .dataframe tbody tr th:only-of-type {\n",
              "        vertical-align: middle;\n",
              "    }\n",
              "\n",
              "    .dataframe tbody tr th {\n",
              "        vertical-align: top;\n",
              "    }\n",
              "\n",
              "    .dataframe thead th {\n",
              "        text-align: right;\n",
              "    }\n",
              "</style>\n",
              "<table border=\"1\" class=\"dataframe\">\n",
              "  <thead>\n",
              "    <tr style=\"text-align: right;\">\n",
              "      <th></th>\n",
              "      <th>content</th>\n",
              "      <th>mistakes</th>\n",
              "      <th>n_sentences</th>\n",
              "      <th>punctuation_count</th>\n",
              "      <th>unique_word_count</th>\n",
              "      <th>adj_adv_count</th>\n",
              "      <th>prompt_id</th>\n",
              "      <th>text</th>\n",
              "    </tr>\n",
              "  </thead>\n",
              "  <tbody>\n",
              "    <tr>\n",
              "      <th>0</th>\n",
              "      <td>0.205683</td>\n",
              "      <td>3</td>\n",
              "      <td>4</td>\n",
              "      <td>3</td>\n",
              "      <td>50</td>\n",
              "      <td>9</td>\n",
              "      <td>814d6b</td>\n",
              "      <td>the third wave was an experimentto see how peo...</td>\n",
              "    </tr>\n",
              "    <tr>\n",
              "      <th>1</th>\n",
              "      <td>-0.548304</td>\n",
              "      <td>1</td>\n",
              "      <td>3</td>\n",
              "      <td>2</td>\n",
              "      <td>36</td>\n",
              "      <td>6</td>\n",
              "      <td>ebad26</td>\n",
              "      <td>they would rub it up with soda to make the sme...</td>\n",
              "    </tr>\n",
              "    <tr>\n",
              "      <th>2</th>\n",
              "      <td>3.128928</td>\n",
              "      <td>9</td>\n",
              "      <td>13</td>\n",
              "      <td>38</td>\n",
              "      <td>142</td>\n",
              "      <td>25</td>\n",
              "      <td>3b9047</td>\n",
              "      <td>in egypt, there were many occupations and soci...</td>\n",
              "    </tr>\n",
              "    <tr>\n",
              "      <th>3</th>\n",
              "      <td>-0.210614</td>\n",
              "      <td>4</td>\n",
              "      <td>5</td>\n",
              "      <td>6</td>\n",
              "      <td>21</td>\n",
              "      <td>3</td>\n",
              "      <td>3b9047</td>\n",
              "      <td>the highest class was pharaohs these people we...</td>\n",
              "    </tr>\n",
              "    <tr>\n",
              "      <th>4</th>\n",
              "      <td>3.272894</td>\n",
              "      <td>23</td>\n",
              "      <td>14</td>\n",
              "      <td>30</td>\n",
              "      <td>133</td>\n",
              "      <td>18</td>\n",
              "      <td>814d6b</td>\n",
              "      <td>the third wave developed  rapidly because the ...</td>\n",
              "    </tr>\n",
              "  </tbody>\n",
              "</table>\n",
              "</div>"
            ],
            "text/plain": [
              "    content  mistakes  n_sentences  punctuation_count  unique_word_count  \\\n",
              "0  0.205683         3            4                  3                 50   \n",
              "1 -0.548304         1            3                  2                 36   \n",
              "2  3.128928         9           13                 38                142   \n",
              "3 -0.210614         4            5                  6                 21   \n",
              "4  3.272894        23           14                 30                133   \n",
              "\n",
              "   adj_adv_count prompt_id                                               text  \n",
              "0              9    814d6b  the third wave was an experimentto see how peo...  \n",
              "1              6    ebad26  they would rub it up with soda to make the sme...  \n",
              "2             25    3b9047  in egypt, there were many occupations and soci...  \n",
              "3              3    3b9047  the highest class was pharaohs these people we...  \n",
              "4             18    814d6b  the third wave developed  rapidly because the ...  "
            ]
          },
          "execution_count": 3,
          "metadata": {},
          "output_type": "execute_result"
        }
      ],
      "source": [
        "content_dfrm = pd.read_csv(\"/kaggle/input/commonlit-updated/content_train.csv\")\n",
        "content_dfrm.head()"
      ]
    },
    {
      "cell_type": "code",
      "execution_count": null,
      "id": "93762d87",
      "metadata": {
        "execution": {
          "iopub.execute_input": "2023-10-30T05:35:00.213403Z",
          "iopub.status.busy": "2023-10-30T05:35:00.212972Z",
          "iopub.status.idle": "2023-10-30T05:35:00.840526Z",
          "shell.execute_reply": "2023-10-30T05:35:00.839423Z"
        },
        "id": "93762d87",
        "outputId": "09415009-0604-484e-e580-c01462b10081",
        "papermill": {
          "duration": 0.639883,
          "end_time": "2023-10-30T05:35:00.842867",
          "exception": false,
          "start_time": "2023-10-30T05:35:00.202984",
          "status": "completed"
        },
        "tags": []
      },
      "outputs": [
        {
          "data": {
            "text/html": [
              "<div>\n",
              "<style scoped>\n",
              "    .dataframe tbody tr th:only-of-type {\n",
              "        vertical-align: middle;\n",
              "    }\n",
              "\n",
              "    .dataframe tbody tr th {\n",
              "        vertical-align: top;\n",
              "    }\n",
              "\n",
              "    .dataframe thead th {\n",
              "        text-align: right;\n",
              "    }\n",
              "</style>\n",
              "<table border=\"1\" class=\"dataframe\">\n",
              "  <thead>\n",
              "    <tr style=\"text-align: right;\">\n",
              "      <th></th>\n",
              "      <th>wording</th>\n",
              "      <th>cite</th>\n",
              "      <th>mistakes</th>\n",
              "      <th>n_sentences</th>\n",
              "      <th>punctuation_count</th>\n",
              "      <th>unique_word_count</th>\n",
              "      <th>adj_adv_count</th>\n",
              "      <th>fk_score</th>\n",
              "      <th>prompt_id</th>\n",
              "      <th>text</th>\n",
              "    </tr>\n",
              "  </thead>\n",
              "  <tbody>\n",
              "    <tr>\n",
              "      <th>0</th>\n",
              "      <td>0.380538</td>\n",
              "      <td>0</td>\n",
              "      <td>3</td>\n",
              "      <td>4</td>\n",
              "      <td>3</td>\n",
              "      <td>50</td>\n",
              "      <td>9</td>\n",
              "      <td>8.1</td>\n",
              "      <td>814d6b</td>\n",
              "      <td>the third wave was an experimentto see how peo...</td>\n",
              "    </tr>\n",
              "    <tr>\n",
              "      <th>1</th>\n",
              "      <td>0.506755</td>\n",
              "      <td>1</td>\n",
              "      <td>1</td>\n",
              "      <td>3</td>\n",
              "      <td>2</td>\n",
              "      <td>36</td>\n",
              "      <td>6</td>\n",
              "      <td>7.5</td>\n",
              "      <td>ebad26</td>\n",
              "      <td>they would rub it up with soda to make the sme...</td>\n",
              "    </tr>\n",
              "    <tr>\n",
              "      <th>2</th>\n",
              "      <td>4.231226</td>\n",
              "      <td>1</td>\n",
              "      <td>9</td>\n",
              "      <td>13</td>\n",
              "      <td>38</td>\n",
              "      <td>142</td>\n",
              "      <td>25</td>\n",
              "      <td>8.5</td>\n",
              "      <td>3b9047</td>\n",
              "      <td>in egypt, there were many occupations and soci...</td>\n",
              "    </tr>\n",
              "    <tr>\n",
              "      <th>3</th>\n",
              "      <td>-0.471415</td>\n",
              "      <td>1</td>\n",
              "      <td>4</td>\n",
              "      <td>5</td>\n",
              "      <td>6</td>\n",
              "      <td>21</td>\n",
              "      <td>3</td>\n",
              "      <td>5.3</td>\n",
              "      <td>3b9047</td>\n",
              "      <td>the highest class was pharaohs these people we...</td>\n",
              "    </tr>\n",
              "    <tr>\n",
              "      <th>4</th>\n",
              "      <td>3.219757</td>\n",
              "      <td>0</td>\n",
              "      <td>23</td>\n",
              "      <td>14</td>\n",
              "      <td>30</td>\n",
              "      <td>133</td>\n",
              "      <td>18</td>\n",
              "      <td>7.8</td>\n",
              "      <td>814d6b</td>\n",
              "      <td>the third wave developed  rapidly because the ...</td>\n",
              "    </tr>\n",
              "  </tbody>\n",
              "</table>\n",
              "</div>"
            ],
            "text/plain": [
              "    wording  cite  mistakes  n_sentences  punctuation_count  \\\n",
              "0  0.380538     0         3            4                  3   \n",
              "1  0.506755     1         1            3                  2   \n",
              "2  4.231226     1         9           13                 38   \n",
              "3 -0.471415     1         4            5                  6   \n",
              "4  3.219757     0        23           14                 30   \n",
              "\n",
              "   unique_word_count  adj_adv_count  fk_score prompt_id  \\\n",
              "0                 50              9       8.1    814d6b   \n",
              "1                 36              6       7.5    ebad26   \n",
              "2                142             25       8.5    3b9047   \n",
              "3                 21              3       5.3    3b9047   \n",
              "4                133             18       7.8    814d6b   \n",
              "\n",
              "                                                text  \n",
              "0  the third wave was an experimentto see how peo...  \n",
              "1  they would rub it up with soda to make the sme...  \n",
              "2  in egypt, there were many occupations and soci...  \n",
              "3  the highest class was pharaohs these people we...  \n",
              "4  the third wave developed  rapidly because the ...  "
            ]
          },
          "execution_count": 4,
          "metadata": {},
          "output_type": "execute_result"
        }
      ],
      "source": [
        "wording_dfrm =  pd.read_csv(\"/kaggle/input/commonlit-updated/wording_train.csv\")\n",
        "wording_dfrm.head()"
      ]
    },
    {
      "cell_type": "code",
      "execution_count": null,
      "id": "c03344fa",
      "metadata": {
        "execution": {
          "iopub.execute_input": "2023-10-30T05:35:00.864618Z",
          "iopub.status.busy": "2023-10-30T05:35:00.863975Z",
          "iopub.status.idle": "2023-10-30T05:35:01.805804Z",
          "shell.execute_reply": "2023-10-30T05:35:01.805042Z"
        },
        "papermill": {
          "duration": 0.954672,
          "end_time": "2023-10-30T05:35:01.807926",
          "exception": false,
          "start_time": "2023-10-30T05:35:00.853254",
          "status": "completed"
        },
        "tags": [],
        "colab": {
          "referenced_widgets": [
            "cfbac0d8be0d49ae841eed96195860e6",
            "dbaf2341c8f8464aa44319e83af63780",
            "1b1ad74145d949a59706331eb7efb4d6"
          ]
        },
        "id": "c03344fa",
        "outputId": "dad25e89-5e4b-4b25-cf8f-a52b221b4111"
      },
      "outputs": [
        {
          "data": {
            "application/vnd.jupyter.widget-view+json": {
              "model_id": "cfbac0d8be0d49ae841eed96195860e6",
              "version_major": 2,
              "version_minor": 0
            },
            "text/plain": [
              "Downloading (…)solve/main/vocab.txt:   0%|          | 0.00/232k [00:00<?, ?B/s]"
            ]
          },
          "metadata": {},
          "output_type": "display_data"
        },
        {
          "data": {
            "application/vnd.jupyter.widget-view+json": {
              "model_id": "dbaf2341c8f8464aa44319e83af63780",
              "version_major": 2,
              "version_minor": 0
            },
            "text/plain": [
              "Downloading (…)okenizer_config.json:   0%|          | 0.00/28.0 [00:00<?, ?B/s]"
            ]
          },
          "metadata": {},
          "output_type": "display_data"
        },
        {
          "data": {
            "application/vnd.jupyter.widget-view+json": {
              "model_id": "1b1ad74145d949a59706331eb7efb4d6",
              "version_major": 2,
              "version_minor": 0
            },
            "text/plain": [
              "Downloading (…)lve/main/config.json:   0%|          | 0.00/570 [00:00<?, ?B/s]"
            ]
          },
          "metadata": {},
          "output_type": "display_data"
        }
      ],
      "source": [
        "tokenizer = BertTokenizer.from_pretrained('bert-base-uncased')"
      ]
    },
    {
      "cell_type": "markdown",
      "id": "22908a67",
      "metadata": {
        "id": "22908a67",
        "papermill": {
          "duration": 0.010578,
          "end_time": "2023-10-30T05:35:01.829275",
          "exception": false,
          "start_time": "2023-10-30T05:35:01.818697",
          "status": "completed"
        },
        "tags": []
      },
      "source": [
        "## Custom dataset for Content"
      ]
    },
    {
      "cell_type": "code",
      "execution_count": null,
      "id": "01ca8bbd",
      "metadata": {
        "execution": {
          "iopub.execute_input": "2023-10-30T05:35:01.851484Z",
          "iopub.status.busy": "2023-10-30T05:35:01.851116Z",
          "iopub.status.idle": "2023-10-30T05:35:01.859986Z",
          "shell.execute_reply": "2023-10-30T05:35:01.859019Z"
        },
        "id": "01ca8bbd",
        "papermill": {
          "duration": 0.022238,
          "end_time": "2023-10-30T05:35:01.862037",
          "exception": false,
          "start_time": "2023-10-30T05:35:01.839799",
          "status": "completed"
        },
        "tags": []
      },
      "outputs": [],
      "source": [
        "class ContentDataset(Dataset):\n",
        "    def __init__(self, dfrm):\n",
        "        self.dfrm = dfrm\n",
        "\n",
        "    def __len__(self):\n",
        "        return len(self.dfrm)\n",
        "\n",
        "    def __getitem__(self, idx):\n",
        "        text = self.dfrm.iloc[idx]['text']\n",
        "        inputs = tokenizer.encode_plus(text.lower(),\n",
        "                                            truncation=True,\n",
        "                                            padding='max_length',\n",
        "                                            max_length=512,\n",
        "                                            return_attention_mask=True,\n",
        "                                            return_tensors = 'pt')\n",
        "\n",
        "        input_ids = inputs['input_ids'].flatten()\n",
        "        attention_mask = inputs['attention_mask'].flatten()\n",
        "        token_type_ids = inputs['token_type_ids'].flatten()\n",
        "\n",
        "        features = list(self.dfrm.iloc[idx][['mistakes', 'n_sentences', 'punctuation_count', 'unique_word_count', 'adj_adv_count']].values)\n",
        "\n",
        "        return input_ids, attention_mask, token_type_ids, torch.FloatTensor(features), torch.FloatTensor([self.dfrm.iloc[idx]['content']])"
      ]
    },
    {
      "cell_type": "markdown",
      "id": "2faa5b38",
      "metadata": {
        "id": "2faa5b38",
        "papermill": {
          "duration": 0.010289,
          "end_time": "2023-10-30T05:35:01.882589",
          "exception": false,
          "start_time": "2023-10-30T05:35:01.872300",
          "status": "completed"
        },
        "tags": []
      },
      "source": [
        "## Custom dataset for Wording"
      ]
    },
    {
      "cell_type": "code",
      "execution_count": null,
      "id": "d48f565f",
      "metadata": {
        "execution": {
          "iopub.execute_input": "2023-10-30T05:35:01.904400Z",
          "iopub.status.busy": "2023-10-30T05:35:01.904071Z",
          "iopub.status.idle": "2023-10-30T05:35:01.912527Z",
          "shell.execute_reply": "2023-10-30T05:35:01.911592Z"
        },
        "id": "d48f565f",
        "papermill": {
          "duration": 0.021879,
          "end_time": "2023-10-30T05:35:01.914578",
          "exception": false,
          "start_time": "2023-10-30T05:35:01.892699",
          "status": "completed"
        },
        "tags": []
      },
      "outputs": [],
      "source": [
        "class WordingDataset(Dataset):\n",
        "    def __init__(self, dfrm):\n",
        "        self.dfrm = dfrm\n",
        "\n",
        "    def __len__(self):\n",
        "        return len(self.dfrm)\n",
        "\n",
        "    def __getitem__(self, idx):\n",
        "        text = self.dfrm.iloc[idx]['text']\n",
        "        inputs = tokenizer.encode_plus(text.lower(),\n",
        "                                            truncation=True,\n",
        "                                            padding='max_length',\n",
        "                                            max_length=512,\n",
        "                                            return_attention_mask=True,\n",
        "                                            return_tensors = 'pt')\n",
        "\n",
        "        input_ids = inputs['input_ids'].flatten()\n",
        "        attention_mask = inputs['attention_mask'].flatten()\n",
        "        token_type_ids = inputs['token_type_ids'].flatten()\n",
        "\n",
        "        features = self.dfrm.iloc[idx][['cite', 'mistakes', 'n_sentences', 'punctuation_count', 'unique_word_count', 'adj_adv_count', 'fk_score']].values\n",
        "\n",
        "        return input_ids, attention_mask, token_type_ids, torch.FloatTensor(features), torch.FloatTensor([self.dfrm.iloc[idx]['wording']])"
      ]
    },
    {
      "cell_type": "markdown",
      "id": "d168ad86",
      "metadata": {
        "id": "d168ad86",
        "papermill": {
          "duration": 0.00998,
          "end_time": "2023-10-30T05:35:01.983755",
          "exception": false,
          "start_time": "2023-10-30T05:35:01.973775",
          "status": "completed"
        },
        "tags": []
      },
      "source": [
        "## Modeling"
      ]
    },
    {
      "cell_type": "markdown",
      "id": "b8c09bf6",
      "metadata": {
        "id": "b8c09bf6",
        "papermill": {
          "duration": 0.010256,
          "end_time": "2023-10-30T05:35:02.004145",
          "exception": false,
          "start_time": "2023-10-30T05:35:01.993889",
          "status": "completed"
        },
        "tags": []
      },
      "source": [
        "I decided to create simple custom class for BERT. The difference between content and wording models only in size of input features for dense layer."
      ]
    },
    {
      "cell_type": "code",
      "execution_count": null,
      "id": "043a4005",
      "metadata": {
        "execution": {
          "iopub.execute_input": "2023-10-30T05:35:02.025159Z",
          "iopub.status.busy": "2023-10-30T05:35:02.024893Z",
          "iopub.status.idle": "2023-10-30T05:35:02.032140Z",
          "shell.execute_reply": "2023-10-30T05:35:02.031249Z"
        },
        "id": "043a4005",
        "papermill": {
          "duration": 0.02002,
          "end_time": "2023-10-30T05:35:02.034118",
          "exception": false,
          "start_time": "2023-10-30T05:35:02.014098",
          "status": "completed"
        },
        "tags": []
      },
      "outputs": [],
      "source": [
        "class ContentBERT(nn.Module):\n",
        "    def __init__(self, dropout):\n",
        "        super(ContentBERT, self).__init__()\n",
        "        self.bert = BertModel.from_pretrained('bert-base-uncased')\n",
        "        self.dropout = nn.Dropout(dropout)\n",
        "        self.fc = nn.Linear(768 + 5, 1)\n",
        "\n",
        "    def forward(self,  input_ids, attention_mask, token_type_ids, x_features):\n",
        "        bert_output = self.bert(input_ids=input_ids,\n",
        "                                 attention_mask = attention_mask,\n",
        "                                 token_type_ids = token_type_ids)\n",
        "        pooled_output = bert_output.pooler_output\n",
        "        pooled_output = self.dropout(pooled_output)\n",
        "\n",
        "\n",
        "        combined = torch.cat([pooled_output, x_features], dim=1)\n",
        "        return self.fc(combined)"
      ]
    },
    {
      "cell_type": "code",
      "execution_count": null,
      "id": "76809478",
      "metadata": {
        "execution": {
          "iopub.execute_input": "2023-10-30T05:35:02.055222Z",
          "iopub.status.busy": "2023-10-30T05:35:02.054914Z",
          "iopub.status.idle": "2023-10-30T05:35:02.062260Z",
          "shell.execute_reply": "2023-10-30T05:35:02.061408Z"
        },
        "id": "76809478",
        "papermill": {
          "duration": 0.020063,
          "end_time": "2023-10-30T05:35:02.064104",
          "exception": false,
          "start_time": "2023-10-30T05:35:02.044041",
          "status": "completed"
        },
        "tags": []
      },
      "outputs": [],
      "source": [
        "class WordingBERT(nn.Module):\n",
        "    def __init__(self, dropout):\n",
        "        super(WordingBERT, self).__init__()\n",
        "        self.bert = BertModel.from_pretrained('bert-base-uncased')\n",
        "        self.fc = nn.Linear(768 + 7, 1)\n",
        "        self.dropout = nn.Dropout(dropout)\n",
        "\n",
        "    def forward(self, x_text, x_features):\n",
        "        bert_output = self.bert(input_ids=input_ids,\n",
        "                                 attention_mask = attention_mask,\n",
        "                                 token_type_ids = token_type_ids)\n",
        "        pooled_output = bert_output.pooler_output\n",
        "        pooled_output = self.dropout(pooled_output)\n",
        "\n",
        "        combined = torch.cat([pooled_output, x_features], dim=1)\n",
        "        return self.fc(combined)"
      ]
    },
    {
      "cell_type": "markdown",
      "id": "c81ca4fc",
      "metadata": {
        "id": "c81ca4fc",
        "papermill": {
          "duration": 0.009979,
          "end_time": "2023-10-30T05:35:02.084142",
          "exception": false,
          "start_time": "2023-10-30T05:35:02.074163",
          "status": "completed"
        },
        "tags": []
      },
      "source": [
        "Train and validation loops (return rmse as metric)"
      ]
    },
    {
      "cell_type": "code",
      "execution_count": null,
      "id": "f15f5c23",
      "metadata": {
        "execution": {
          "iopub.execute_input": "2023-10-30T05:35:02.105889Z",
          "iopub.status.busy": "2023-10-30T05:35:02.105633Z",
          "iopub.status.idle": "2023-10-30T05:35:02.208305Z",
          "shell.execute_reply": "2023-10-30T05:35:02.207435Z"
        },
        "papermill": {
          "duration": 0.115836,
          "end_time": "2023-10-30T05:35:02.210347",
          "exception": false,
          "start_time": "2023-10-30T05:35:02.094511",
          "status": "completed"
        },
        "tags": [],
        "id": "f15f5c23"
      },
      "outputs": [],
      "source": [
        "device = torch.device('cuda' if torch.cuda.is_available() else 'cpu')"
      ]
    },
    {
      "cell_type": "code",
      "execution_count": null,
      "id": "8055d207",
      "metadata": {
        "execution": {
          "iopub.execute_input": "2023-10-30T05:35:02.232571Z",
          "iopub.status.busy": "2023-10-30T05:35:02.232263Z",
          "iopub.status.idle": "2023-10-30T05:35:02.242949Z",
          "shell.execute_reply": "2023-10-30T05:35:02.242141Z"
        },
        "id": "8055d207",
        "papermill": {
          "duration": 0.02401,
          "end_time": "2023-10-30T05:35:02.244891",
          "exception": false,
          "start_time": "2023-10-30T05:35:02.220881",
          "status": "completed"
        },
        "tags": []
      },
      "outputs": [],
      "source": [
        "def train(model, dataloader, criterion, optimizer):\n",
        "    model.train()\n",
        "    total_loss = 0.0\n",
        "    for input_ids, attention_mask, token_type_ids, x_features, y in dataloader:\n",
        "        optimizer.zero_grad()\n",
        "        input_ids = input_ids.to(device)\n",
        "        attention_mask = attention_mask.to(device)\n",
        "        token_type_ids = token_type_ids.to(device)\n",
        "        x_features = x_features.to(device)\n",
        "        outputs = model(input_ids, attention_mask, token_type_ids, x_features)\n",
        "        y = y.float()\n",
        "        y = y.to(device)\n",
        "        outputs = outputs.to(device)\n",
        "        loss = criterion(outputs, y)\n",
        "        loss.backward()\n",
        "        optimizer.step()\n",
        "        total_loss += mse_loss(outputs, y).item()\n",
        "    return (total_loss / len(dataloader)) ** 0.5\n",
        "\n",
        "def validate(model, dataloader, criterion):\n",
        "    model.eval()\n",
        "    total_loss = 0.0\n",
        "    with torch.no_grad():\n",
        "        for input_ids, attention_mask, token_type_ids, x_features, y in dataloader:\n",
        "            input_ids = input_ids.to(device)\n",
        "            attention_mask = attention_mask.to(device)\n",
        "            token_type_ids = token_type_ids.to(device)\n",
        "            x_features = x_features.to(device)\n",
        "            outputs = model(input_ids, attention_mask, token_type_ids, x_features)\n",
        "            y = y.float()\n",
        "            y = y.to(device)\n",
        "            outputs = outputs.to(device)\n",
        "            loss = criterion(outputs, y)\n",
        "            total_loss += mse_loss(outputs, y).item()\n",
        "    return (total_loss / len(dataloader)) ** 0.5"
      ]
    },
    {
      "cell_type": "markdown",
      "id": "5e324329",
      "metadata": {
        "id": "5e324329",
        "papermill": {
          "duration": 0.010311,
          "end_time": "2023-10-30T05:35:02.265483",
          "exception": false,
          "start_time": "2023-10-30T05:35:02.255172",
          "status": "completed"
        },
        "tags": []
      },
      "source": [
        "## Training"
      ]
    },
    {
      "cell_type": "markdown",
      "id": "54bd520f",
      "metadata": {
        "id": "54bd520f",
        "papermill": {
          "duration": 0.010248,
          "end_time": "2023-10-30T05:35:02.286381",
          "exception": false,
          "start_time": "2023-10-30T05:35:02.276133",
          "status": "completed"
        },
        "tags": []
      },
      "source": [
        "### Content"
      ]
    },
    {
      "cell_type": "code",
      "execution_count": null,
      "id": "38eb0572",
      "metadata": {
        "execution": {
          "iopub.execute_input": "2023-10-30T05:35:02.307973Z",
          "iopub.status.busy": "2023-10-30T05:35:02.307690Z",
          "iopub.status.idle": "2023-10-30T05:35:02.311775Z",
          "shell.execute_reply": "2023-10-30T05:35:02.310953Z"
        },
        "papermill": {
          "duration": 0.016873,
          "end_time": "2023-10-30T05:35:02.313634",
          "exception": false,
          "start_time": "2023-10-30T05:35:02.296761",
          "status": "completed"
        },
        "tags": [],
        "id": "38eb0572"
      },
      "outputs": [],
      "source": [
        "train_losses_content, val_losses_content = [], []"
      ]
    },
    {
      "cell_type": "code",
      "execution_count": null,
      "id": "b6c068fb",
      "metadata": {
        "execution": {
          "iopub.execute_input": "2023-10-30T05:35:02.335338Z",
          "iopub.status.busy": "2023-10-30T05:35:02.335044Z",
          "iopub.status.idle": "2023-10-30T05:35:02.344733Z",
          "shell.execute_reply": "2023-10-30T05:35:02.343899Z"
        },
        "papermill": {
          "duration": 0.022813,
          "end_time": "2023-10-30T05:35:02.346607",
          "exception": false,
          "start_time": "2023-10-30T05:35:02.323794",
          "status": "completed"
        },
        "tags": [],
        "id": "b6c068fb"
      },
      "outputs": [],
      "source": [
        "def train_content(dropout: int, lr: int, batch_size: int):\n",
        "    aggregated_val_loss = 0.0\n",
        "    folds = 0\n",
        "\n",
        "    n_splits = 4\n",
        "    group_kfold = GroupKFold(n_splits=n_splits)\n",
        "\n",
        "    for train_idx, val_idx in group_kfold.split(content_dfrm, content_dfrm['content'], content_dfrm['prompt_id']):\n",
        "        folds += 1\n",
        "        print(f\"Fold: {folds}\\n\")\n",
        "        train_data, val_data = content_dfrm.iloc[train_idx], content_dfrm.iloc[val_idx]\n",
        "\n",
        "        train_dataset = ContentDataset(train_data)\n",
        "        val_dataset = ContentDataset(val_data)\n",
        "\n",
        "        train_loader = DataLoader(train_dataset, batch_size=batch_size, shuffle=True)\n",
        "        val_loader = DataLoader(val_dataset, batch_size=batch_size)\n",
        "\n",
        "        model = ContentBERT(dropout=dropout).to(device)\n",
        "        criterion = nn.MSELoss()\n",
        "        optimizer = torch.optim.AdamW(model.parameters(), lr=lr)\n",
        "\n",
        "        best_val_loss = float('inf')\n",
        "        epochs = 5\n",
        "        for epoch in range(epochs):\n",
        "            train_loss = train(model, train_loader, criterion, optimizer)\n",
        "            val_loss = validate(model, val_loader, criterion)\n",
        "\n",
        "            print(f\"Epoch {epoch+1}/{epochs} - Train RMSE: {train_loss:.4f}, Val RMSE: {val_loss:.4f}\")\n",
        "\n",
        "            train_losses_content.append(train_loss)\n",
        "            val_losses_content.append(val_loss)\n",
        "\n",
        "            if val_loss < best_val_loss:\n",
        "                best_val_loss = val_loss\n",
        "                torch.save(model.state_dict(), 'content_bert.pt')\n",
        "\n",
        "        aggregated_val_loss += best_val_loss\n",
        "\n",
        "    return aggregated_val_loss / n_splits"
      ]
    },
    {
      "cell_type": "markdown",
      "source": [
        "Use optuna to optimize hyperparameters"
      ],
      "metadata": {
        "id": "9zwZAMP2rtXI"
      },
      "id": "9zwZAMP2rtXI"
    },
    {
      "cell_type": "code",
      "execution_count": null,
      "id": "030bbb05",
      "metadata": {
        "execution": {
          "iopub.execute_input": "2023-10-30T05:35:02.368748Z",
          "iopub.status.busy": "2023-10-30T05:35:02.368479Z",
          "iopub.status.idle": "2023-10-30T05:35:02.372402Z",
          "shell.execute_reply": "2023-10-30T05:35:02.371552Z"
        },
        "papermill": {
          "duration": 0.01712,
          "end_time": "2023-10-30T05:35:02.374265",
          "exception": false,
          "start_time": "2023-10-30T05:35:02.357145",
          "status": "completed"
        },
        "tags": [],
        "id": "030bbb05"
      },
      "outputs": [],
      "source": [
        "# def objective(trial):\n",
        "#     lr = trial.suggest_float(\"lr\", 1e-5, 1e-3, log=True)\n",
        "#     dropout = trial.suggest_float(\"dropout\", 0.2, 0.5)\n",
        "#     batch_size = trial.suggest_categorical(\"batch_size\", [16, 32, 64])\n",
        "#     return train_wording(dropout, lr, batch_size)\n",
        "\n",
        "# study = optuna.create_study(direction=\"minimize\")\n",
        "# study.optimize(objective, n_trials=10)\n",
        "\n",
        "# best_params = study.best_params"
      ]
    },
    {
      "cell_type": "code",
      "execution_count": null,
      "id": "bae7b330",
      "metadata": {
        "execution": {
          "iopub.execute_input": "2023-10-30T05:35:02.396941Z",
          "iopub.status.busy": "2023-10-30T05:35:02.396627Z",
          "iopub.status.idle": "2023-10-30T08:10:58.330693Z",
          "shell.execute_reply": "2023-10-30T08:10:58.329758Z"
        },
        "papermill": {
          "duration": 9355.959288,
          "end_time": "2023-10-30T08:10:58.344279",
          "exception": false,
          "start_time": "2023-10-30T05:35:02.384991",
          "status": "completed"
        },
        "tags": [],
        "colab": {
          "referenced_widgets": [
            "d953a394e60e4eeda95fb20b7bb463b4"
          ]
        },
        "id": "bae7b330",
        "outputId": "511e46a3-abe5-4cb8-a308-97959112a2e1"
      },
      "outputs": [
        {
          "name": "stdout",
          "output_type": "stream",
          "text": [
            "Fold: 1\n",
            "\n"
          ]
        },
        {
          "data": {
            "application/vnd.jupyter.widget-view+json": {
              "model_id": "d953a394e60e4eeda95fb20b7bb463b4",
              "version_major": 2,
              "version_minor": 0
            },
            "text/plain": [
              "Downloading model.safetensors:   0%|          | 0.00/440M [00:00<?, ?B/s]"
            ]
          },
          "metadata": {},
          "output_type": "display_data"
        },
        {
          "name": "stdout",
          "output_type": "stream",
          "text": [
            "Epoch 1/5 - Train RMSE: 1.5181, Val RMSE: 0.9544\n",
            "Epoch 2/5 - Train RMSE: 0.8188, Val RMSE: 0.6584\n",
            "Epoch 3/5 - Train RMSE: 0.7024, Val RMSE: 0.6143\n",
            "Epoch 4/5 - Train RMSE: 0.6878, Val RMSE: 0.5856\n",
            "Epoch 5/5 - Train RMSE: 0.6802, Val RMSE: 0.6170\n",
            "Fold: 2\n",
            "\n",
            "Epoch 1/5 - Train RMSE: 0.8308, Val RMSE: 0.6705\n",
            "Epoch 2/5 - Train RMSE: 0.6544, Val RMSE: 0.7080\n",
            "Epoch 3/5 - Train RMSE: 0.6428, Val RMSE: 0.8571\n",
            "Epoch 4/5 - Train RMSE: 0.6272, Val RMSE: 0.7226\n",
            "Epoch 5/5 - Train RMSE: 0.6154, Val RMSE: 0.7679\n",
            "Fold: 3\n",
            "\n",
            "Epoch 1/5 - Train RMSE: 0.8014, Val RMSE: 0.6399\n",
            "Epoch 2/5 - Train RMSE: 0.6632, Val RMSE: 0.6310\n",
            "Epoch 3/5 - Train RMSE: 0.6543, Val RMSE: 0.6386\n",
            "Epoch 4/5 - Train RMSE: 0.6393, Val RMSE: 0.6453\n",
            "Epoch 5/5 - Train RMSE: 0.6328, Val RMSE: 0.6277\n",
            "Fold: 4\n",
            "\n",
            "Epoch 1/5 - Train RMSE: 1.2287, Val RMSE: 1.1004\n",
            "Epoch 2/5 - Train RMSE: 0.7680, Val RMSE: 0.9195\n",
            "Epoch 3/5 - Train RMSE: 0.7101, Val RMSE: 0.8067\n",
            "Epoch 4/5 - Train RMSE: 0.6937, Val RMSE: 0.8276\n",
            "Epoch 5/5 - Train RMSE: 0.6796, Val RMSE: 0.8204\n"
          ]
        },
        {
          "data": {
            "text/plain": [
              "0.6726400488475555"
            ]
          },
          "execution_count": 16,
          "metadata": {},
          "output_type": "execute_result"
        }
      ],
      "source": [
        "train_content(dropout=0.29928979789778737, lr=0.00023899150738147665, batch_size=32)"
      ]
    },
    {
      "cell_type": "markdown",
      "id": "baa51cf6",
      "metadata": {
        "id": "baa51cf6",
        "papermill": {
          "duration": 0.011803,
          "end_time": "2023-10-30T08:10:58.367900",
          "exception": false,
          "start_time": "2023-10-30T08:10:58.356097",
          "status": "completed"
        },
        "tags": []
      },
      "source": [
        "Plotting the losses and metrics"
      ]
    },
    {
      "cell_type": "code",
      "execution_count": null,
      "id": "53063759",
      "metadata": {
        "execution": {
          "iopub.execute_input": "2023-10-30T08:10:58.393421Z",
          "iopub.status.busy": "2023-10-30T08:10:58.393093Z",
          "iopub.status.idle": "2023-10-30T08:10:58.847238Z",
          "shell.execute_reply": "2023-10-30T08:10:58.846275Z"
        },
        "id": "53063759",
        "papermill": {
          "duration": 0.469677,
          "end_time": "2023-10-30T08:10:58.849629",
          "exception": false,
          "start_time": "2023-10-30T08:10:58.379952",
          "status": "completed"
        },
        "tags": [],
        "outputId": "cffea20e-c4d2-4041-b8dc-fb7990df60c9"
      },
      "outputs": [
        {
          "data": {
            "image/png": "[encoded data removed]",
            "text/plain": [
              "<Figure size 1200x500 with 1 Axes>"
            ]
          },
          "metadata": {},
          "output_type": "display_data"
        }
      ],
      "source": [
        "plt.figure(figsize=(12, 5))\n",
        "\n",
        "plt.subplot(1, 2, 1)\n",
        "plt.plot(train_losses_content, label=\"Train RMSE\")\n",
        "plt.plot(val_losses_content, label=\"Validation RMSE\", linestyle='--')\n",
        "plt.legend()\n",
        "plt.title(\"Losses over Epochs\")\n",
        "\n",
        "plt.tight_layout()\n",
        "plt.show()"
      ]
    },
    {
      "cell_type": "markdown",
      "id": "721d3546",
      "metadata": {
        "id": "721d3546",
        "papermill": {
          "duration": 0.013435,
          "end_time": "2023-10-30T08:10:58.876990",
          "exception": false,
          "start_time": "2023-10-30T08:10:58.863555",
          "status": "completed"
        },
        "tags": []
      },
      "source": [
        "Save the best model state_dict"
      ]
    },
    {
      "cell_type": "markdown",
      "id": "a056e718",
      "metadata": {
        "id": "a056e718",
        "papermill": {
          "duration": 0.012981,
          "end_time": "2023-10-30T08:10:58.903246",
          "exception": false,
          "start_time": "2023-10-30T08:10:58.890265",
          "status": "completed"
        },
        "tags": []
      },
      "source": [
        "### Wording"
      ]
    },
    {
      "cell_type": "code",
      "execution_count": null,
      "id": "b56d0a83",
      "metadata": {
        "execution": {
          "iopub.execute_input": "2023-10-30T08:10:58.931987Z",
          "iopub.status.busy": "2023-10-30T08:10:58.931102Z",
          "iopub.status.idle": "2023-10-30T08:10:58.936249Z",
          "shell.execute_reply": "2023-10-30T08:10:58.935125Z"
        },
        "papermill": {
          "duration": 0.022161,
          "end_time": "2023-10-30T08:10:58.938758",
          "exception": false,
          "start_time": "2023-10-30T08:10:58.916597",
          "status": "completed"
        },
        "tags": [],
        "id": "b56d0a83"
      },
      "outputs": [],
      "source": [
        "train_losses_wording, val_losses_wording = [], []"
      ]
    },
    {
      "cell_type": "code",
      "execution_count": null,
      "id": "56409590",
      "metadata": {
        "execution": {
          "iopub.execute_input": "2023-10-30T08:10:58.967099Z",
          "iopub.status.busy": "2023-10-30T08:10:58.966787Z",
          "iopub.status.idle": "2023-10-30T08:10:58.976816Z",
          "shell.execute_reply": "2023-10-30T08:10:58.975880Z"
        },
        "id": "56409590",
        "papermill": {
          "duration": 0.026283,
          "end_time": "2023-10-30T08:10:58.979007",
          "exception": false,
          "start_time": "2023-10-30T08:10:58.952724",
          "status": "completed"
        },
        "tags": []
      },
      "outputs": [],
      "source": [
        "def train_wording(dropout: int, lr: int, batch_size: int):\n",
        "    aggregated_val_loss = 0.0\n",
        "    folds = 0\n",
        "\n",
        "    n_splits = 4\n",
        "    group_kfold = GroupKFold(n_splits=n_splits)\n",
        "\n",
        "    for train_idx, val_idx in group_kfold.split(wording_dfrm, wording_dfrm['wording'], wording_dfrm['prompt_id']):\n",
        "        folds += 1\n",
        "        print(f\"Fold: {folds}\\n\")\n",
        "        train_data, val_data = wording_dfrm.iloc[train_idx], wording_dfrm.iloc[val_idx]\n",
        "\n",
        "        train_dataset = WordingDataset(train_data)\n",
        "        val_dataset = WordingDataset(val_data)\n",
        "\n",
        "        train_loader = DataLoader(train_dataset, batch_size=batch_size, shuffle=True)\n",
        "        val_loader = DataLoader(val_dataset, batch_size=batch_size)\n",
        "\n",
        "        model = WordingBERT(dropout=dropout).to(device)\n",
        "        criterion = nn.MSELoss()\n",
        "        optimizer = torch.optim.AdamW(model.parameters(), lr=lr)\n",
        "\n",
        "        best_val_loss = float('inf')\n",
        "        epochs = 5\n",
        "        for epoch in range(epochs):\n",
        "            train_loss = train(model, train_loader, criterion, optimizer)\n",
        "            val_loss = validate(model, val_loader, criterion)\n",
        "\n",
        "            print(f\"Epoch {epoch+1}/{epochs} - Train RMSE: {train_loss:.4f}, Val RMSE: {val_loss:.4f}\")\n",
        "\n",
        "            train_losses_content.append(train_loss)\n",
        "            val_losses_content.append(val_loss)\n",
        "\n",
        "            if val_loss < best_val_loss:\n",
        "                best_val_loss = val_loss\n",
        "                torch.save(model.state_dict(), 'wording_bert.pt')\n",
        "\n",
        "        aggregated_val_loss += best_val_loss\n",
        "\n",
        "    return aggregated_val_loss / n_splits"
      ]
    },
    {
      "cell_type": "code",
      "execution_count": null,
      "id": "eff14761",
      "metadata": {
        "execution": {
          "iopub.execute_input": "2023-10-30T08:10:59.006974Z",
          "iopub.status.busy": "2023-10-30T08:10:59.006657Z",
          "iopub.status.idle": "2023-10-30T08:10:59.011112Z",
          "shell.execute_reply": "2023-10-30T08:10:59.010156Z"
        },
        "papermill": {
          "duration": 0.02093,
          "end_time": "2023-10-30T08:10:59.013304",
          "exception": false,
          "start_time": "2023-10-30T08:10:58.992374",
          "status": "completed"
        },
        "tags": [],
        "id": "eff14761"
      },
      "outputs": [],
      "source": [
        "# def objective(trial):\n",
        "#     lr = trial.suggest_float(\"lr\", 1e-5, 1e-3, log=True)\n",
        "#     dropout = trial.suggest_float(\"dropout\", 0.2, 0.5)\n",
        "#     batch_size = trial.suggest_categorical(\"batch_size\", [16, 32, 64])\n",
        "#     return train_wording(dropout, lr, batch_size)\n",
        "\n",
        "# study = optuna.create_study(direction=\"minimize\")\n",
        "# study.optimize(objective, n_trials=10)\n",
        "\n",
        "# best_params = study.best_params"
      ]
    },
    {
      "cell_type": "code",
      "execution_count": null,
      "id": "2ceace96",
      "metadata": {
        "execution": {
          "iopub.execute_input": "2023-10-30T08:10:59.041349Z",
          "iopub.status.busy": "2023-10-30T08:10:59.041007Z",
          "iopub.status.idle": "2023-10-30T08:11:01.847596Z",
          "shell.execute_reply": "2023-10-30T08:11:01.846014Z"
        },
        "papermill": {
          "duration": 2.822751,
          "end_time": "2023-10-30T08:11:01.849487",
          "exception": true,
          "start_time": "2023-10-30T08:10:59.026736",
          "status": "failed"
        },
        "tags": [],
        "id": "2ceace96",
        "outputId": "3c3dcce7-3db8-4c9a-d69a-e30e23d07009"
      },
      "outputs": [
        {
          "name": "stdout",
          "output_type": "stream",
          "text": [
            "Fold: 1\n",
            "\n"
          ]
        },
        {
          "ename": "TypeError",
          "evalue": "can't convert np.ndarray of type numpy.object_. The only supported types are: float64, float32, float16, complex64, complex128, int64, int32, int16, int8, uint8, and bool.",
          "output_type": "error",
          "traceback": [
            "\u001b[0;31m---------------------------------------------------------------------------\u001b[0m",
            "\u001b[0;31mTypeError\u001b[0m                                 Traceback (most recent call last)",
            "Cell \u001b[0;32mIn[21], line 1\u001b[0m\n\u001b[0;32m----> 1\u001b[0m \u001b[43mtrain_wording\u001b[49m\u001b[43m(\u001b[49m\u001b[43mdropout\u001b[49m\u001b[38;5;241;43m=\u001b[39;49m\u001b[38;5;241;43m0.28928979689778737\u001b[39;49m\u001b[43m,\u001b[49m\u001b[43m \u001b[49m\u001b[43mlr\u001b[49m\u001b[38;5;241;43m=\u001b[39;49m\u001b[38;5;241;43m0.000158699150738247763\u001b[39;49m\u001b[43m,\u001b[49m\u001b[43m \u001b[49m\u001b[43mbatch_size\u001b[49m\u001b[38;5;241;43m=\u001b[39;49m\u001b[38;5;241;43m32\u001b[39;49m\u001b[43m)\u001b[49m\n",
            "Cell \u001b[0;32mIn[19], line 26\u001b[0m, in \u001b[0;36mtrain_wording\u001b[0;34m(dropout, lr, batch_size)\u001b[0m\n\u001b[1;32m     24\u001b[0m epochs \u001b[38;5;241m=\u001b[39m \u001b[38;5;241m5\u001b[39m  \n\u001b[1;32m     25\u001b[0m \u001b[38;5;28;01mfor\u001b[39;00m epoch \u001b[38;5;129;01min\u001b[39;00m \u001b[38;5;28mrange\u001b[39m(epochs):\n\u001b[0;32m---> 26\u001b[0m     train_loss \u001b[38;5;241m=\u001b[39m \u001b[43mtrain\u001b[49m\u001b[43m(\u001b[49m\u001b[43mmodel\u001b[49m\u001b[43m,\u001b[49m\u001b[43m \u001b[49m\u001b[43mtrain_loader\u001b[49m\u001b[43m,\u001b[49m\u001b[43m \u001b[49m\u001b[43mcriterion\u001b[49m\u001b[43m,\u001b[49m\u001b[43m \u001b[49m\u001b[43moptimizer\u001b[49m\u001b[43m)\u001b[49m\n\u001b[1;32m     27\u001b[0m     val_loss \u001b[38;5;241m=\u001b[39m validate(model, val_loader, criterion)\n\u001b[1;32m     29\u001b[0m     \u001b[38;5;28mprint\u001b[39m(\u001b[38;5;124mf\u001b[39m\u001b[38;5;124m\"\u001b[39m\u001b[38;5;124mEpoch \u001b[39m\u001b[38;5;132;01m{\u001b[39;00mepoch\u001b[38;5;241m+\u001b[39m\u001b[38;5;241m1\u001b[39m\u001b[38;5;132;01m}\u001b[39;00m\u001b[38;5;124m/\u001b[39m\u001b[38;5;132;01m{\u001b[39;00mepochs\u001b[38;5;132;01m}\u001b[39;00m\u001b[38;5;124m - Train RMSE: \u001b[39m\u001b[38;5;132;01m{\u001b[39;00mtrain_loss\u001b[38;5;132;01m:\u001b[39;00m\u001b[38;5;124m.4f\u001b[39m\u001b[38;5;132;01m}\u001b[39;00m\u001b[38;5;124m, Val RMSE: \u001b[39m\u001b[38;5;132;01m{\u001b[39;00mval_loss\u001b[38;5;132;01m:\u001b[39;00m\u001b[38;5;124m.4f\u001b[39m\u001b[38;5;132;01m}\u001b[39;00m\u001b[38;5;124m\"\u001b[39m)\n",
            "Cell \u001b[0;32mIn[12], line 4\u001b[0m, in \u001b[0;36mtrain\u001b[0;34m(model, dataloader, criterion, optimizer)\u001b[0m\n\u001b[1;32m      2\u001b[0m model\u001b[38;5;241m.\u001b[39mtrain()\n\u001b[1;32m      3\u001b[0m total_loss \u001b[38;5;241m=\u001b[39m \u001b[38;5;241m0.0\u001b[39m\n\u001b[0;32m----> 4\u001b[0m \u001b[38;5;28;01mfor\u001b[39;00m input_ids, attention_mask, token_type_ids, x_features, y \u001b[38;5;129;01min\u001b[39;00m dataloader:\n\u001b[1;32m      5\u001b[0m     optimizer\u001b[38;5;241m.\u001b[39mzero_grad()\n\u001b[1;32m      6\u001b[0m     input_ids \u001b[38;5;241m=\u001b[39m input_ids\u001b[38;5;241m.\u001b[39mto(device)\n",
            "File \u001b[0;32m/opt/conda/lib/python3.10/site-packages/torch/utils/data/dataloader.py:634\u001b[0m, in \u001b[0;36m_BaseDataLoaderIter.__next__\u001b[0;34m(self)\u001b[0m\n\u001b[1;32m    631\u001b[0m \u001b[38;5;28;01mif\u001b[39;00m \u001b[38;5;28mself\u001b[39m\u001b[38;5;241m.\u001b[39m_sampler_iter \u001b[38;5;129;01mis\u001b[39;00m \u001b[38;5;28;01mNone\u001b[39;00m:\n\u001b[1;32m    632\u001b[0m     \u001b[38;5;66;03m# TODO(https://github.com/pytorch/pytorch/issues/76750)\u001b[39;00m\n\u001b[1;32m    633\u001b[0m     \u001b[38;5;28mself\u001b[39m\u001b[38;5;241m.\u001b[39m_reset()  \u001b[38;5;66;03m# type: ignore[call-arg]\u001b[39;00m\n\u001b[0;32m--> 634\u001b[0m data \u001b[38;5;241m=\u001b[39m \u001b[38;5;28;43mself\u001b[39;49m\u001b[38;5;241;43m.\u001b[39;49m\u001b[43m_next_data\u001b[49m\u001b[43m(\u001b[49m\u001b[43m)\u001b[49m\n\u001b[1;32m    635\u001b[0m \u001b[38;5;28mself\u001b[39m\u001b[38;5;241m.\u001b[39m_num_yielded \u001b[38;5;241m+\u001b[39m\u001b[38;5;241m=\u001b[39m \u001b[38;5;241m1\u001b[39m\n\u001b[1;32m    636\u001b[0m \u001b[38;5;28;01mif\u001b[39;00m \u001b[38;5;28mself\u001b[39m\u001b[38;5;241m.\u001b[39m_dataset_kind \u001b[38;5;241m==\u001b[39m _DatasetKind\u001b[38;5;241m.\u001b[39mIterable \u001b[38;5;129;01mand\u001b[39;00m \\\n\u001b[1;32m    637\u001b[0m         \u001b[38;5;28mself\u001b[39m\u001b[38;5;241m.\u001b[39m_IterableDataset_len_called \u001b[38;5;129;01mis\u001b[39;00m \u001b[38;5;129;01mnot\u001b[39;00m \u001b[38;5;28;01mNone\u001b[39;00m \u001b[38;5;129;01mand\u001b[39;00m \\\n\u001b[1;32m    638\u001b[0m         \u001b[38;5;28mself\u001b[39m\u001b[38;5;241m.\u001b[39m_num_yielded \u001b[38;5;241m>\u001b[39m \u001b[38;5;28mself\u001b[39m\u001b[38;5;241m.\u001b[39m_IterableDataset_len_called:\n",
            "File \u001b[0;32m/opt/conda/lib/python3.10/site-packages/torch/utils/data/dataloader.py:678\u001b[0m, in \u001b[0;36m_SingleProcessDataLoaderIter._next_data\u001b[0;34m(self)\u001b[0m\n\u001b[1;32m    676\u001b[0m \u001b[38;5;28;01mdef\u001b[39;00m \u001b[38;5;21m_next_data\u001b[39m(\u001b[38;5;28mself\u001b[39m):\n\u001b[1;32m    677\u001b[0m     index \u001b[38;5;241m=\u001b[39m \u001b[38;5;28mself\u001b[39m\u001b[38;5;241m.\u001b[39m_next_index()  \u001b[38;5;66;03m# may raise StopIteration\u001b[39;00m\n\u001b[0;32m--> 678\u001b[0m     data \u001b[38;5;241m=\u001b[39m \u001b[38;5;28;43mself\u001b[39;49m\u001b[38;5;241;43m.\u001b[39;49m\u001b[43m_dataset_fetcher\u001b[49m\u001b[38;5;241;43m.\u001b[39;49m\u001b[43mfetch\u001b[49m\u001b[43m(\u001b[49m\u001b[43mindex\u001b[49m\u001b[43m)\u001b[49m  \u001b[38;5;66;03m# may raise StopIteration\u001b[39;00m\n\u001b[1;32m    679\u001b[0m     \u001b[38;5;28;01mif\u001b[39;00m \u001b[38;5;28mself\u001b[39m\u001b[38;5;241m.\u001b[39m_pin_memory:\n\u001b[1;32m    680\u001b[0m         data \u001b[38;5;241m=\u001b[39m _utils\u001b[38;5;241m.\u001b[39mpin_memory\u001b[38;5;241m.\u001b[39mpin_memory(data, \u001b[38;5;28mself\u001b[39m\u001b[38;5;241m.\u001b[39m_pin_memory_device)\n",
            "File \u001b[0;32m/opt/conda/lib/python3.10/site-packages/torch/utils/data/_utils/fetch.py:51\u001b[0m, in \u001b[0;36m_MapDatasetFetcher.fetch\u001b[0;34m(self, possibly_batched_index)\u001b[0m\n\u001b[1;32m     49\u001b[0m         data \u001b[38;5;241m=\u001b[39m \u001b[38;5;28mself\u001b[39m\u001b[38;5;241m.\u001b[39mdataset\u001b[38;5;241m.\u001b[39m__getitems__(possibly_batched_index)\n\u001b[1;32m     50\u001b[0m     \u001b[38;5;28;01melse\u001b[39;00m:\n\u001b[0;32m---> 51\u001b[0m         data \u001b[38;5;241m=\u001b[39m [\u001b[38;5;28mself\u001b[39m\u001b[38;5;241m.\u001b[39mdataset[idx] \u001b[38;5;28;01mfor\u001b[39;00m idx \u001b[38;5;129;01min\u001b[39;00m possibly_batched_index]\n\u001b[1;32m     52\u001b[0m \u001b[38;5;28;01melse\u001b[39;00m:\n\u001b[1;32m     53\u001b[0m     data \u001b[38;5;241m=\u001b[39m \u001b[38;5;28mself\u001b[39m\u001b[38;5;241m.\u001b[39mdataset[possibly_batched_index]\n",
            "File \u001b[0;32m/opt/conda/lib/python3.10/site-packages/torch/utils/data/_utils/fetch.py:51\u001b[0m, in \u001b[0;36m<listcomp>\u001b[0;34m(.0)\u001b[0m\n\u001b[1;32m     49\u001b[0m         data \u001b[38;5;241m=\u001b[39m \u001b[38;5;28mself\u001b[39m\u001b[38;5;241m.\u001b[39mdataset\u001b[38;5;241m.\u001b[39m__getitems__(possibly_batched_index)\n\u001b[1;32m     50\u001b[0m     \u001b[38;5;28;01melse\u001b[39;00m:\n\u001b[0;32m---> 51\u001b[0m         data \u001b[38;5;241m=\u001b[39m [\u001b[38;5;28;43mself\u001b[39;49m\u001b[38;5;241;43m.\u001b[39;49m\u001b[43mdataset\u001b[49m\u001b[43m[\u001b[49m\u001b[43midx\u001b[49m\u001b[43m]\u001b[49m \u001b[38;5;28;01mfor\u001b[39;00m idx \u001b[38;5;129;01min\u001b[39;00m possibly_batched_index]\n\u001b[1;32m     52\u001b[0m \u001b[38;5;28;01melse\u001b[39;00m:\n\u001b[1;32m     53\u001b[0m     data \u001b[38;5;241m=\u001b[39m \u001b[38;5;28mself\u001b[39m\u001b[38;5;241m.\u001b[39mdataset[possibly_batched_index]\n",
            "Cell \u001b[0;32mIn[7], line 23\u001b[0m, in \u001b[0;36mWordingDataset.__getitem__\u001b[0;34m(self, idx)\u001b[0m\n\u001b[1;32m     19\u001b[0m token_type_ids \u001b[38;5;241m=\u001b[39m inputs[\u001b[38;5;124m'\u001b[39m\u001b[38;5;124mtoken_type_ids\u001b[39m\u001b[38;5;124m'\u001b[39m]\u001b[38;5;241m.\u001b[39mflatten()\n\u001b[1;32m     21\u001b[0m features \u001b[38;5;241m=\u001b[39m \u001b[38;5;28mself\u001b[39m\u001b[38;5;241m.\u001b[39mdfrm\u001b[38;5;241m.\u001b[39miloc[idx][[\u001b[38;5;124m'\u001b[39m\u001b[38;5;124mcite\u001b[39m\u001b[38;5;124m'\u001b[39m, \u001b[38;5;124m'\u001b[39m\u001b[38;5;124mmistakes\u001b[39m\u001b[38;5;124m'\u001b[39m, \u001b[38;5;124m'\u001b[39m\u001b[38;5;124mn_sentences\u001b[39m\u001b[38;5;124m'\u001b[39m, \u001b[38;5;124m'\u001b[39m\u001b[38;5;124mpunctuation_count\u001b[39m\u001b[38;5;124m'\u001b[39m, \u001b[38;5;124m'\u001b[39m\u001b[38;5;124munique_word_count\u001b[39m\u001b[38;5;124m'\u001b[39m, \u001b[38;5;124m'\u001b[39m\u001b[38;5;124madj_adv_count\u001b[39m\u001b[38;5;124m'\u001b[39m, \u001b[38;5;124m'\u001b[39m\u001b[38;5;124mfk_score\u001b[39m\u001b[38;5;124m'\u001b[39m]]\u001b[38;5;241m.\u001b[39mvalues\n\u001b[0;32m---> 23\u001b[0m \u001b[38;5;28;01mreturn\u001b[39;00m input_ids, attention_mask, token_type_ids, \u001b[43mtorch\u001b[49m\u001b[38;5;241;43m.\u001b[39;49m\u001b[43mFloatTensor\u001b[49m\u001b[43m(\u001b[49m\u001b[43mfeatures\u001b[49m\u001b[43m)\u001b[49m, torch\u001b[38;5;241m.\u001b[39mFloatTensor([\u001b[38;5;28mself\u001b[39m\u001b[38;5;241m.\u001b[39mdfrm\u001b[38;5;241m.\u001b[39miloc[idx][\u001b[38;5;124m'\u001b[39m\u001b[38;5;124mwording\u001b[39m\u001b[38;5;124m'\u001b[39m]])\n",
            "\u001b[0;31mTypeError\u001b[0m: can't convert np.ndarray of type numpy.object_. The only supported types are: float64, float32, float16, complex64, complex128, int64, int32, int16, int8, uint8, and bool."
          ]
        }
      ],
      "source": [
        "train_wording(dropout=0.28928979689778737, lr=0.000158699150738247763, batch_size=32)"
      ]
    },
    {
      "cell_type": "markdown",
      "id": "589f3faf",
      "metadata": {
        "id": "589f3faf",
        "papermill": {
          "duration": null,
          "end_time": null,
          "exception": null,
          "start_time": null,
          "status": "pending"
        },
        "tags": []
      },
      "source": [
        "Plotting the losses and metrics"
      ]
    },
    {
      "cell_type": "code",
      "execution_count": null,
      "id": "e85a1736",
      "metadata": {
        "id": "e85a1736",
        "papermill": {
          "duration": null,
          "end_time": null,
          "exception": null,
          "start_time": null,
          "status": "pending"
        },
        "tags": []
      },
      "outputs": [],
      "source": [
        "plt.figure(figsize=(12, 5))\n",
        "\n",
        "plt.subplot(1, 2, 1)\n",
        "plt.plot(train_losses_wording, label=\"Train RMSE\")\n",
        "plt.plot(val_losses_wording, label=\"Validation RMSE\", linestyle='--')\n",
        "plt.legend()\n",
        "plt.title(\"Losses over Epochs\")\n",
        "\n",
        "plt.tight_layout()\n",
        "plt.show()"
      ]
    },
    {
      "cell_type": "markdown",
      "id": "e1d22df5",
      "metadata": {
        "id": "e1d22df5",
        "papermill": {
          "duration": null,
          "end_time": null,
          "exception": null,
          "start_time": null,
          "status": "pending"
        },
        "tags": []
      },
      "source": [
        "I want to plot final metrics on each fold"
      ]
    },
    {
      "cell_type": "code",
      "execution_count": null,
      "id": "5d632623",
      "metadata": {
        "id": "5d632623",
        "papermill": {
          "duration": null,
          "end_time": null,
          "exception": null,
          "start_time": null,
          "status": "pending"
        },
        "tags": []
      },
      "outputs": [],
      "source": [
        "mean_rmse_train = [(c + w) / 2 for c, w in zip(train_losses_content, train_losses_wording)]\n",
        "mean_rmse_valid = [(c + w) / 2 for c, w in zip(val_losses_content, val_losses_wording)]\n",
        "\n",
        "folds = list(range(1, len(mean_rmse_train) + 1))\n",
        "plt.figure(figsize=(10, 6))\n",
        "plt.plot(folds, mean_rmse_train, '-o', label='Mean RMSE Train', color='green')\n",
        "plt.plot(folds, mean_rmse_valid, '--o', label='Mean RMSE Valid', color='blue', linestyle='dashed')\n",
        "\n",
        "plt.xlabel('Fold')\n",
        "plt.ylabel('RMSE')\n",
        "plt.title('RMSE across Folds')\n",
        "plt.xticks(folds)\n",
        "plt.legend()\n",
        "plt.grid(True)\n",
        "plt.tight_layout()\n",
        "plt.show()"
      ]
    },
    {
      "cell_type": "markdown",
      "id": "90b06412",
      "metadata": {
        "id": "90b06412",
        "papermill": {
          "duration": null,
          "end_time": null,
          "exception": null,
          "start_time": null,
          "status": "pending"
        },
        "tags": []
      },
      "source": [
        "## Submission to Kaggle"
      ]
    }
  ],
  "metadata": {
    "kernelspec": {
      "display_name": "Python 3",
      "language": "python",
      "name": "python3"
    },
    "language_info": {
      "codemirror_mode": {
        "name": "ipython",
        "version": 3
      },
      "file_extension": ".py",
      "mimetype": "text/x-python",
      "name": "python",
      "nbconvert_exporter": "python",
      "pygments_lexer": "ipython3",
      "version": "3.10.12"
    },
    "papermill": {
      "default_parameters": {},
      "duration": 9387.466967,
      "end_time": "2023-10-30T08:11:05.396590",
      "environment_variables": {},
      "exception": true,
      "input_path": "__notebook__.ipynb",
      "output_path": "__notebook__.ipynb",
      "parameters": {},
      "start_time": "2023-10-30T05:34:37.929623",
      "version": "2.4.0"
    },
    "widgets": {
      "application/vnd.jupyter.widget-state+json": {}
    },
    "colab": {
      "provenance": [],
      "include_colab_link": true
    }
  },
  "nbformat": 4,
  "nbformat_minor": 5
}