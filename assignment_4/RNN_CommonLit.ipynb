{
  "nbformat": 4,
  "nbformat_minor": 0,
  "metadata": {
    "colab": {
      "provenance": [],
      "gpuType": "T4",
      "authorship_tag": "ABX9TyP9YqmcL0Rpb6aFPTGvubST",
      "include_colab_link": true
    },
    "kernelspec": {
      "name": "python3",
      "display_name": "Python 3"
    },
    "language_info": {
      "name": "python"
    },
    "accelerator": "GPU"
  },
  "cells": [
    {
      "cell_type": "markdown",
      "metadata": {
        "id": "view-in-github",
        "colab_type": "text"
      },
      "source": [
        "<a href=\"https://colab.research.google.com/github/kashperova/iasa-nlp-course/blob/main/assignment_4/RNN_CommonLit.ipynb\" target=\"_parent\"><img src=\"https://colab.research.google.com/assets/colab-badge.svg\" alt=\"Open In Colab\"/></a>"
      ]
    },
    {
      "cell_type": "code",
      "execution_count": null,
      "metadata": {
        "id": "jPewTcc4rOCm"
      },
      "outputs": [],
      "source": [
        "import pandas as pd\n",
        "import numpy as np\n",
        "import nltk\n",
        "import string\n",
        "import re\n",
        "import matplotlib.pyplot as plt\n",
        "from nltk.corpus import stopwords\n",
        "from nltk import pos_tag\n",
        "from nltk.tokenize import word_tokenize\n",
        "from sklearn.model_selection import train_test_split, GridSearchCV\n",
        "import pickle\n",
        "from gensim.models import Word2Vec\n",
        "import torch\n",
        "from torch.utils.data import Dataset\n",
        "import torch.nn as nn\n",
        "from torch.nn.functional import mse_loss\n",
        "import matplotlib.pyplot as plt\n",
        "from sklearn.model_selection import GroupKFold\n",
        "from torch.utils.data import DataLoader\n",
        "from torch.nn.functional import cross_entropy\n",
        "import torch.nn.functional as F"
      ]
    },
    {
      "cell_type": "code",
      "source": [
        "import nltk\n",
        "nltk.download('punkt')"
      ],
      "metadata": {
        "colab": {
          "base_uri": "https://localhost:8080/"
        },
        "id": "WUXSteKhfyRK",
        "outputId": "d00bfc89-3c2c-4e6d-f7dc-f1a75b378366"
      },
      "execution_count": null,
      "outputs": [
        {
          "output_type": "stream",
          "name": "stderr",
          "text": [
            "[nltk_data] Downloading package punkt to /root/nltk_data...\n",
            "[nltk_data]   Unzipping tokenizers/punkt.zip.\n"
          ]
        },
        {
          "output_type": "execute_result",
          "data": {
            "text/plain": [
              "True"
            ]
          },
          "metadata": {},
          "execution_count": 8
        }
      ]
    },
    {
      "cell_type": "markdown",
      "source": [
        "# Recurrent models\n",
        "\n",
        "### Wording features description\n",
        "- <b>wording</b> - target summary score\n",
        "- <b>prompt_id</b> - id of prompt to summarize\n",
        "- <b>text</b> - preprocessed joined text of student's summary, prompt text, prompt title\n",
        "- <b>cite</b> - whether is proposed in prompt question to cite evidence from the text.\n",
        "- <b>mistakes</b> - amount of spelling correction\n",
        "- <b>n_sentences</b> - amount of sentences in summary\n",
        "- <b>unique_word_count</b> - amount of unique words in student's summary\n",
        "- <b>adj_adv_count</b> - amount of adjectives and adverbs in student's summary\n",
        "- <b>fk_score</b> - Flesch-Kincaid readability score in student's summary\n",
        "\n",
        "### Content features description\n",
        "- <b>content</b> - target summary score\n",
        "- <b>prompt_id</b> - id of prompt to summarize\n",
        "- <b>text</b> - preprocessed joined text of student's summary, prompt text, prompt title\n",
        "- <b>mistakes</b> - amount of spelling correction\n",
        "- <b>n_sentences</b> - amount of sentences in summary\n",
        "- <b>punctuation_count</b> - amount of punctuation in student's summary\n",
        "- <b>unique_word_count</b> - amount of unique words in student's summary\n",
        "- <b>adj_adv_count</b> - amount of adjectives and adverbs in student's summary"
      ],
      "metadata": {
        "id": "GxZ2qXcQrTGz"
      }
    },
    {
      "cell_type": "code",
      "source": [
        "content_dfrm = pd.read_csv(\"content_train.csv\")\n",
        "content_dfrm.head()"
      ],
      "metadata": {
        "colab": {
          "base_uri": "https://localhost:8080/",
          "height": 206
        },
        "id": "nBByhaiVr0rd",
        "outputId": "d59ddc9d-d751-4687-ec4b-d1e0a4bef119"
      },
      "execution_count": null,
      "outputs": [
        {
          "output_type": "execute_result",
          "data": {
            "text/plain": [
              "    content  mistakes  n_sentences  punctuation_count  unique_word_count  \\\n",
              "0  0.205683         3            4                  3                 50   \n",
              "1 -0.548304         1            3                  2                 36   \n",
              "2  3.128928         9           13                 38                142   \n",
              "3 -0.210614         4            5                  6                 21   \n",
              "4  3.272894        23           14                 30                133   \n",
              "\n",
              "   adj_adv_count prompt_id                                               text  \n",
              "0              9    814d6b  the third wave was an experimentto see how peo...  \n",
              "1              6    ebad26  they would rub it up with soda to make the sme...  \n",
              "2             25    3b9047  in egypt, there were many occupations and soci...  \n",
              "3              3    3b9047  the highest class was pharaohs these people we...  \n",
              "4             18    814d6b  the third wave developed  rapidly because the ...  "
            ],
            "text/html": [
              "\n",
              "  <div id=\"df-22a4b988-4cf5-4345-9621-b1a67ed28fb9\" class=\"colab-df-container\">\n",
              "    <div>\n",
              "<style scoped>\n",
              "    .dataframe tbody tr th:only-of-type {\n",
              "        vertical-align: middle;\n",
              "    }\n",
              "\n",
              "    .dataframe tbody tr th {\n",
              "        vertical-align: top;\n",
              "    }\n",
              "\n",
              "    .dataframe thead th {\n",
              "        text-align: right;\n",
              "    }\n",
              "</style>\n",
              "<table border=\"1\" class=\"dataframe\">\n",
              "  <thead>\n",
              "    <tr style=\"text-align: right;\">\n",
              "      <th></th>\n",
              "      <th>content</th>\n",
              "      <th>mistakes</th>\n",
              "      <th>n_sentences</th>\n",
              "      <th>punctuation_count</th>\n",
              "      <th>unique_word_count</th>\n",
              "      <th>adj_adv_count</th>\n",
              "      <th>prompt_id</th>\n",
              "      <th>text</th>\n",
              "    </tr>\n",
              "  </thead>\n",
              "  <tbody>\n",
              "    <tr>\n",
              "      <th>0</th>\n",
              "      <td>0.205683</td>\n",
              "      <td>3</td>\n",
              "      <td>4</td>\n",
              "      <td>3</td>\n",
              "      <td>50</td>\n",
              "      <td>9</td>\n",
              "      <td>814d6b</td>\n",
              "      <td>the third wave was an experimentto see how peo...</td>\n",
              "    </tr>\n",
              "    <tr>\n",
              "      <th>1</th>\n",
              "      <td>-0.548304</td>\n",
              "      <td>1</td>\n",
              "      <td>3</td>\n",
              "      <td>2</td>\n",
              "      <td>36</td>\n",
              "      <td>6</td>\n",
              "      <td>ebad26</td>\n",
              "      <td>they would rub it up with soda to make the sme...</td>\n",
              "    </tr>\n",
              "    <tr>\n",
              "      <th>2</th>\n",
              "      <td>3.128928</td>\n",
              "      <td>9</td>\n",
              "      <td>13</td>\n",
              "      <td>38</td>\n",
              "      <td>142</td>\n",
              "      <td>25</td>\n",
              "      <td>3b9047</td>\n",
              "      <td>in egypt, there were many occupations and soci...</td>\n",
              "    </tr>\n",
              "    <tr>\n",
              "      <th>3</th>\n",
              "      <td>-0.210614</td>\n",
              "      <td>4</td>\n",
              "      <td>5</td>\n",
              "      <td>6</td>\n",
              "      <td>21</td>\n",
              "      <td>3</td>\n",
              "      <td>3b9047</td>\n",
              "      <td>the highest class was pharaohs these people we...</td>\n",
              "    </tr>\n",
              "    <tr>\n",
              "      <th>4</th>\n",
              "      <td>3.272894</td>\n",
              "      <td>23</td>\n",
              "      <td>14</td>\n",
              "      <td>30</td>\n",
              "      <td>133</td>\n",
              "      <td>18</td>\n",
              "      <td>814d6b</td>\n",
              "      <td>the third wave developed  rapidly because the ...</td>\n",
              "    </tr>\n",
              "  </tbody>\n",
              "</table>\n",
              "</div>\n",
              "    <div class=\"colab-df-buttons\">\n",
              "\n",
              "  <div class=\"colab-df-container\">\n",
              "    <button class=\"colab-df-convert\" onclick=\"convertToInteractive('df-22a4b988-4cf5-4345-9621-b1a67ed28fb9')\"\n",
              "            title=\"Convert this dataframe to an interactive table.\"\n",
              "            style=\"display:none;\">\n",
              "\n",
              "  <svg xmlns=\"http://www.w3.org/2000/svg\" height=\"24px\" viewBox=\"0 -960 960 960\">\n",
              "    <path d=\"M120-120v-720h720v720H120Zm60-500h600v-160H180v160Zm220 220h160v-160H400v160Zm0 220h160v-160H400v160ZM180-400h160v-160H180v160Zm440 0h160v-160H620v160ZM180-180h160v-160H180v160Zm440 0h160v-160H620v160Z\"/>\n",
              "  </svg>\n",
              "    </button>\n",
              "\n",
              "  <style>\n",
              "    .colab-df-container {\n",
              "      display:flex;\n",
              "      gap: 12px;\n",
              "    }\n",
              "\n",
              "    .colab-df-convert {\n",
              "      background-color: #E8F0FE;\n",
              "      border: none;\n",
              "      border-radius: 50%;\n",
              "      cursor: pointer;\n",
              "      display: none;\n",
              "      fill: #1967D2;\n",
              "      height: 32px;\n",
              "      padding: 0 0 0 0;\n",
              "      width: 32px;\n",
              "    }\n",
              "\n",
              "    .colab-df-convert:hover {\n",
              "      background-color: #E2EBFA;\n",
              "      box-shadow: 0px 1px 2px rgba(60, 64, 67, 0.3), 0px 1px 3px 1px rgba(60, 64, 67, 0.15);\n",
              "      fill: #174EA6;\n",
              "    }\n",
              "\n",
              "    .colab-df-buttons div {\n",
              "      margin-bottom: 4px;\n",
              "    }\n",
              "\n",
              "    [theme=dark] .colab-df-convert {\n",
              "      background-color: #3B4455;\n",
              "      fill: #D2E3FC;\n",
              "    }\n",
              "\n",
              "    [theme=dark] .colab-df-convert:hover {\n",
              "      background-color: #434B5C;\n",
              "      box-shadow: 0px 1px 3px 1px rgba(0, 0, 0, 0.15);\n",
              "      filter: drop-shadow(0px 1px 2px rgba(0, 0, 0, 0.3));\n",
              "      fill: #FFFFFF;\n",
              "    }\n",
              "  </style>\n",
              "\n",
              "    <script>\n",
              "      const buttonEl =\n",
              "        document.querySelector('#df-22a4b988-4cf5-4345-9621-b1a67ed28fb9 button.colab-df-convert');\n",
              "      buttonEl.style.display =\n",
              "        google.colab.kernel.accessAllowed ? 'block' : 'none';\n",
              "\n",
              "      async function convertToInteractive(key) {\n",
              "        const element = document.querySelector('#df-22a4b988-4cf5-4345-9621-b1a67ed28fb9');\n",
              "        const dataTable =\n",
              "          await google.colab.kernel.invokeFunction('convertToInteractive',\n",
              "                                                    [key], {});\n",
              "        if (!dataTable) return;\n",
              "\n",
              "        const docLinkHtml = 'Like what you see? Visit the ' +\n",
              "          '<a target=\"_blank\" href=https://colab.research.google.com/notebooks/data_table.ipynb>data table notebook</a>'\n",
              "          + ' to learn more about interactive tables.';\n",
              "        element.innerHTML = '';\n",
              "        dataTable['output_type'] = 'display_data';\n",
              "        await google.colab.output.renderOutput(dataTable, element);\n",
              "        const docLink = document.createElement('div');\n",
              "        docLink.innerHTML = docLinkHtml;\n",
              "        element.appendChild(docLink);\n",
              "      }\n",
              "    </script>\n",
              "  </div>\n",
              "\n",
              "\n",
              "<div id=\"df-7c721187-a7ed-448b-beb5-98c4c3d0bd47\">\n",
              "  <button class=\"colab-df-quickchart\" onclick=\"quickchart('df-7c721187-a7ed-448b-beb5-98c4c3d0bd47')\"\n",
              "            title=\"Suggest charts.\"\n",
              "            style=\"display:none;\">\n",
              "\n",
              "<svg xmlns=\"http://www.w3.org/2000/svg\" height=\"24px\"viewBox=\"0 0 24 24\"\n",
              "     width=\"24px\">\n",
              "    <g>\n",
              "        <path d=\"M19 3H5c-1.1 0-2 .9-2 2v14c0 1.1.9 2 2 2h14c1.1 0 2-.9 2-2V5c0-1.1-.9-2-2-2zM9 17H7v-7h2v7zm4 0h-2V7h2v10zm4 0h-2v-4h2v4z\"/>\n",
              "    </g>\n",
              "</svg>\n",
              "  </button>\n",
              "\n",
              "<style>\n",
              "  .colab-df-quickchart {\n",
              "      --bg-color: #E8F0FE;\n",
              "      --fill-color: #1967D2;\n",
              "      --hover-bg-color: #E2EBFA;\n",
              "      --hover-fill-color: #174EA6;\n",
              "      --disabled-fill-color: #AAA;\n",
              "      --disabled-bg-color: #DDD;\n",
              "  }\n",
              "\n",
              "  [theme=dark] .colab-df-quickchart {\n",
              "      --bg-color: #3B4455;\n",
              "      --fill-color: #D2E3FC;\n",
              "      --hover-bg-color: #434B5C;\n",
              "      --hover-fill-color: #FFFFFF;\n",
              "      --disabled-bg-color: #3B4455;\n",
              "      --disabled-fill-color: #666;\n",
              "  }\n",
              "\n",
              "  .colab-df-quickchart {\n",
              "    background-color: var(--bg-color);\n",
              "    border: none;\n",
              "    border-radius: 50%;\n",
              "    cursor: pointer;\n",
              "    display: none;\n",
              "    fill: var(--fill-color);\n",
              "    height: 32px;\n",
              "    padding: 0;\n",
              "    width: 32px;\n",
              "  }\n",
              "\n",
              "  .colab-df-quickchart:hover {\n",
              "    background-color: var(--hover-bg-color);\n",
              "    box-shadow: 0 1px 2px rgba(60, 64, 67, 0.3), 0 1px 3px 1px rgba(60, 64, 67, 0.15);\n",
              "    fill: var(--button-hover-fill-color);\n",
              "  }\n",
              "\n",
              "  .colab-df-quickchart-complete:disabled,\n",
              "  .colab-df-quickchart-complete:disabled:hover {\n",
              "    background-color: var(--disabled-bg-color);\n",
              "    fill: var(--disabled-fill-color);\n",
              "    box-shadow: none;\n",
              "  }\n",
              "\n",
              "  .colab-df-spinner {\n",
              "    border: 2px solid var(--fill-color);\n",
              "    border-color: transparent;\n",
              "    border-bottom-color: var(--fill-color);\n",
              "    animation:\n",
              "      spin 1s steps(1) infinite;\n",
              "  }\n",
              "\n",
              "  @keyframes spin {\n",
              "    0% {\n",
              "      border-color: transparent;\n",
              "      border-bottom-color: var(--fill-color);\n",
              "      border-left-color: var(--fill-color);\n",
              "    }\n",
              "    20% {\n",
              "      border-color: transparent;\n",
              "      border-left-color: var(--fill-color);\n",
              "      border-top-color: var(--fill-color);\n",
              "    }\n",
              "    30% {\n",
              "      border-color: transparent;\n",
              "      border-left-color: var(--fill-color);\n",
              "      border-top-color: var(--fill-color);\n",
              "      border-right-color: var(--fill-color);\n",
              "    }\n",
              "    40% {\n",
              "      border-color: transparent;\n",
              "      border-right-color: var(--fill-color);\n",
              "      border-top-color: var(--fill-color);\n",
              "    }\n",
              "    60% {\n",
              "      border-color: transparent;\n",
              "      border-right-color: var(--fill-color);\n",
              "    }\n",
              "    80% {\n",
              "      border-color: transparent;\n",
              "      border-right-color: var(--fill-color);\n",
              "      border-bottom-color: var(--fill-color);\n",
              "    }\n",
              "    90% {\n",
              "      border-color: transparent;\n",
              "      border-bottom-color: var(--fill-color);\n",
              "    }\n",
              "  }\n",
              "</style>\n",
              "\n",
              "  <script>\n",
              "    async function quickchart(key) {\n",
              "      const quickchartButtonEl =\n",
              "        document.querySelector('#' + key + ' button');\n",
              "      quickchartButtonEl.disabled = true;  // To prevent multiple clicks.\n",
              "      quickchartButtonEl.classList.add('colab-df-spinner');\n",
              "      try {\n",
              "        const charts = await google.colab.kernel.invokeFunction(\n",
              "            'suggestCharts', [key], {});\n",
              "      } catch (error) {\n",
              "        console.error('Error during call to suggestCharts:', error);\n",
              "      }\n",
              "      quickchartButtonEl.classList.remove('colab-df-spinner');\n",
              "      quickchartButtonEl.classList.add('colab-df-quickchart-complete');\n",
              "    }\n",
              "    (() => {\n",
              "      let quickchartButtonEl =\n",
              "        document.querySelector('#df-7c721187-a7ed-448b-beb5-98c4c3d0bd47 button');\n",
              "      quickchartButtonEl.style.display =\n",
              "        google.colab.kernel.accessAllowed ? 'block' : 'none';\n",
              "    })();\n",
              "  </script>\n",
              "</div>\n",
              "    </div>\n",
              "  </div>\n"
            ]
          },
          "metadata": {},
          "execution_count": 2
        }
      ]
    },
    {
      "cell_type": "code",
      "source": [
        "wording_dfrm =  pd.read_csv(\"wording_train.csv\")\n",
        "wording_dfrm.head()"
      ],
      "metadata": {
        "colab": {
          "base_uri": "https://localhost:8080/",
          "height": 206
        },
        "id": "DPBzamXRzYyV",
        "outputId": "773782f1-a931-46f5-a8f9-3f447ee6216a"
      },
      "execution_count": null,
      "outputs": [
        {
          "output_type": "execute_result",
          "data": {
            "text/plain": [
              "    wording  cite  mistakes  n_sentences  punctuation_count  \\\n",
              "0  0.380538     0         3            4                  3   \n",
              "1  0.506755     1         1            3                  2   \n",
              "2  4.231226     1         9           13                 38   \n",
              "3 -0.471415     1         4            5                  6   \n",
              "4  3.219757     0        23           14                 30   \n",
              "\n",
              "   unique_word_count  adj_adv_count  fk_score prompt_id  \\\n",
              "0                 50              9       8.1    814d6b   \n",
              "1                 36              6       7.5    ebad26   \n",
              "2                142             25       8.5    3b9047   \n",
              "3                 21              3       5.3    3b9047   \n",
              "4                133             18       7.8    814d6b   \n",
              "\n",
              "                                                text  \n",
              "0  the third wave was an experimentto see how peo...  \n",
              "1  they would rub it up with soda to make the sme...  \n",
              "2  in egypt, there were many occupations and soci...  \n",
              "3  the highest class was pharaohs these people we...  \n",
              "4  the third wave developed  rapidly because the ...  "
            ],
            "text/html": [
              "\n",
              "  <div id=\"df-eef0f3a0-8a02-44a2-8b70-a1790390defc\" class=\"colab-df-container\">\n",
              "    <div>\n",
              "<style scoped>\n",
              "    .dataframe tbody tr th:only-of-type {\n",
              "        vertical-align: middle;\n",
              "    }\n",
              "\n",
              "    .dataframe tbody tr th {\n",
              "        vertical-align: top;\n",
              "    }\n",
              "\n",
              "    .dataframe thead th {\n",
              "        text-align: right;\n",
              "    }\n",
              "</style>\n",
              "<table border=\"1\" class=\"dataframe\">\n",
              "  <thead>\n",
              "    <tr style=\"text-align: right;\">\n",
              "      <th></th>\n",
              "      <th>wording</th>\n",
              "      <th>cite</th>\n",
              "      <th>mistakes</th>\n",
              "      <th>n_sentences</th>\n",
              "      <th>punctuation_count</th>\n",
              "      <th>unique_word_count</th>\n",
              "      <th>adj_adv_count</th>\n",
              "      <th>fk_score</th>\n",
              "      <th>prompt_id</th>\n",
              "      <th>text</th>\n",
              "    </tr>\n",
              "  </thead>\n",
              "  <tbody>\n",
              "    <tr>\n",
              "      <th>0</th>\n",
              "      <td>0.380538</td>\n",
              "      <td>0</td>\n",
              "      <td>3</td>\n",
              "      <td>4</td>\n",
              "      <td>3</td>\n",
              "      <td>50</td>\n",
              "      <td>9</td>\n",
              "      <td>8.1</td>\n",
              "      <td>814d6b</td>\n",
              "      <td>the third wave was an experimentto see how peo...</td>\n",
              "    </tr>\n",
              "    <tr>\n",
              "      <th>1</th>\n",
              "      <td>0.506755</td>\n",
              "      <td>1</td>\n",
              "      <td>1</td>\n",
              "      <td>3</td>\n",
              "      <td>2</td>\n",
              "      <td>36</td>\n",
              "      <td>6</td>\n",
              "      <td>7.5</td>\n",
              "      <td>ebad26</td>\n",
              "      <td>they would rub it up with soda to make the sme...</td>\n",
              "    </tr>\n",
              "    <tr>\n",
              "      <th>2</th>\n",
              "      <td>4.231226</td>\n",
              "      <td>1</td>\n",
              "      <td>9</td>\n",
              "      <td>13</td>\n",
              "      <td>38</td>\n",
              "      <td>142</td>\n",
              "      <td>25</td>\n",
              "      <td>8.5</td>\n",
              "      <td>3b9047</td>\n",
              "      <td>in egypt, there were many occupations and soci...</td>\n",
              "    </tr>\n",
              "    <tr>\n",
              "      <th>3</th>\n",
              "      <td>-0.471415</td>\n",
              "      <td>1</td>\n",
              "      <td>4</td>\n",
              "      <td>5</td>\n",
              "      <td>6</td>\n",
              "      <td>21</td>\n",
              "      <td>3</td>\n",
              "      <td>5.3</td>\n",
              "      <td>3b9047</td>\n",
              "      <td>the highest class was pharaohs these people we...</td>\n",
              "    </tr>\n",
              "    <tr>\n",
              "      <th>4</th>\n",
              "      <td>3.219757</td>\n",
              "      <td>0</td>\n",
              "      <td>23</td>\n",
              "      <td>14</td>\n",
              "      <td>30</td>\n",
              "      <td>133</td>\n",
              "      <td>18</td>\n",
              "      <td>7.8</td>\n",
              "      <td>814d6b</td>\n",
              "      <td>the third wave developed  rapidly because the ...</td>\n",
              "    </tr>\n",
              "  </tbody>\n",
              "</table>\n",
              "</div>\n",
              "    <div class=\"colab-df-buttons\">\n",
              "\n",
              "  <div class=\"colab-df-container\">\n",
              "    <button class=\"colab-df-convert\" onclick=\"convertToInteractive('df-eef0f3a0-8a02-44a2-8b70-a1790390defc')\"\n",
              "            title=\"Convert this dataframe to an interactive table.\"\n",
              "            style=\"display:none;\">\n",
              "\n",
              "  <svg xmlns=\"http://www.w3.org/2000/svg\" height=\"24px\" viewBox=\"0 -960 960 960\">\n",
              "    <path d=\"M120-120v-720h720v720H120Zm60-500h600v-160H180v160Zm220 220h160v-160H400v160Zm0 220h160v-160H400v160ZM180-400h160v-160H180v160Zm440 0h160v-160H620v160ZM180-180h160v-160H180v160Zm440 0h160v-160H620v160Z\"/>\n",
              "  </svg>\n",
              "    </button>\n",
              "\n",
              "  <style>\n",
              "    .colab-df-container {\n",
              "      display:flex;\n",
              "      gap: 12px;\n",
              "    }\n",
              "\n",
              "    .colab-df-convert {\n",
              "      background-color: #E8F0FE;\n",
              "      border: none;\n",
              "      border-radius: 50%;\n",
              "      cursor: pointer;\n",
              "      display: none;\n",
              "      fill: #1967D2;\n",
              "      height: 32px;\n",
              "      padding: 0 0 0 0;\n",
              "      width: 32px;\n",
              "    }\n",
              "\n",
              "    .colab-df-convert:hover {\n",
              "      background-color: #E2EBFA;\n",
              "      box-shadow: 0px 1px 2px rgba(60, 64, 67, 0.3), 0px 1px 3px 1px rgba(60, 64, 67, 0.15);\n",
              "      fill: #174EA6;\n",
              "    }\n",
              "\n",
              "    .colab-df-buttons div {\n",
              "      margin-bottom: 4px;\n",
              "    }\n",
              "\n",
              "    [theme=dark] .colab-df-convert {\n",
              "      background-color: #3B4455;\n",
              "      fill: #D2E3FC;\n",
              "    }\n",
              "\n",
              "    [theme=dark] .colab-df-convert:hover {\n",
              "      background-color: #434B5C;\n",
              "      box-shadow: 0px 1px 3px 1px rgba(0, 0, 0, 0.15);\n",
              "      filter: drop-shadow(0px 1px 2px rgba(0, 0, 0, 0.3));\n",
              "      fill: #FFFFFF;\n",
              "    }\n",
              "  </style>\n",
              "\n",
              "    <script>\n",
              "      const buttonEl =\n",
              "        document.querySelector('#df-eef0f3a0-8a02-44a2-8b70-a1790390defc button.colab-df-convert');\n",
              "      buttonEl.style.display =\n",
              "        google.colab.kernel.accessAllowed ? 'block' : 'none';\n",
              "\n",
              "      async function convertToInteractive(key) {\n",
              "        const element = document.querySelector('#df-eef0f3a0-8a02-44a2-8b70-a1790390defc');\n",
              "        const dataTable =\n",
              "          await google.colab.kernel.invokeFunction('convertToInteractive',\n",
              "                                                    [key], {});\n",
              "        if (!dataTable) return;\n",
              "\n",
              "        const docLinkHtml = 'Like what you see? Visit the ' +\n",
              "          '<a target=\"_blank\" href=https://colab.research.google.com/notebooks/data_table.ipynb>data table notebook</a>'\n",
              "          + ' to learn more about interactive tables.';\n",
              "        element.innerHTML = '';\n",
              "        dataTable['output_type'] = 'display_data';\n",
              "        await google.colab.output.renderOutput(dataTable, element);\n",
              "        const docLink = document.createElement('div');\n",
              "        docLink.innerHTML = docLinkHtml;\n",
              "        element.appendChild(docLink);\n",
              "      }\n",
              "    </script>\n",
              "  </div>\n",
              "\n",
              "\n",
              "<div id=\"df-61a59cb9-f874-493c-94d8-5b3bee0bf46c\">\n",
              "  <button class=\"colab-df-quickchart\" onclick=\"quickchart('df-61a59cb9-f874-493c-94d8-5b3bee0bf46c')\"\n",
              "            title=\"Suggest charts.\"\n",
              "            style=\"display:none;\">\n",
              "\n",
              "<svg xmlns=\"http://www.w3.org/2000/svg\" height=\"24px\"viewBox=\"0 0 24 24\"\n",
              "     width=\"24px\">\n",
              "    <g>\n",
              "        <path d=\"M19 3H5c-1.1 0-2 .9-2 2v14c0 1.1.9 2 2 2h14c1.1 0 2-.9 2-2V5c0-1.1-.9-2-2-2zM9 17H7v-7h2v7zm4 0h-2V7h2v10zm4 0h-2v-4h2v4z\"/>\n",
              "    </g>\n",
              "</svg>\n",
              "  </button>\n",
              "\n",
              "<style>\n",
              "  .colab-df-quickchart {\n",
              "      --bg-color: #E8F0FE;\n",
              "      --fill-color: #1967D2;\n",
              "      --hover-bg-color: #E2EBFA;\n",
              "      --hover-fill-color: #174EA6;\n",
              "      --disabled-fill-color: #AAA;\n",
              "      --disabled-bg-color: #DDD;\n",
              "  }\n",
              "\n",
              "  [theme=dark] .colab-df-quickchart {\n",
              "      --bg-color: #3B4455;\n",
              "      --fill-color: #D2E3FC;\n",
              "      --hover-bg-color: #434B5C;\n",
              "      --hover-fill-color: #FFFFFF;\n",
              "      --disabled-bg-color: #3B4455;\n",
              "      --disabled-fill-color: #666;\n",
              "  }\n",
              "\n",
              "  .colab-df-quickchart {\n",
              "    background-color: var(--bg-color);\n",
              "    border: none;\n",
              "    border-radius: 50%;\n",
              "    cursor: pointer;\n",
              "    display: none;\n",
              "    fill: var(--fill-color);\n",
              "    height: 32px;\n",
              "    padding: 0;\n",
              "    width: 32px;\n",
              "  }\n",
              "\n",
              "  .colab-df-quickchart:hover {\n",
              "    background-color: var(--hover-bg-color);\n",
              "    box-shadow: 0 1px 2px rgba(60, 64, 67, 0.3), 0 1px 3px 1px rgba(60, 64, 67, 0.15);\n",
              "    fill: var(--button-hover-fill-color);\n",
              "  }\n",
              "\n",
              "  .colab-df-quickchart-complete:disabled,\n",
              "  .colab-df-quickchart-complete:disabled:hover {\n",
              "    background-color: var(--disabled-bg-color);\n",
              "    fill: var(--disabled-fill-color);\n",
              "    box-shadow: none;\n",
              "  }\n",
              "\n",
              "  .colab-df-spinner {\n",
              "    border: 2px solid var(--fill-color);\n",
              "    border-color: transparent;\n",
              "    border-bottom-color: var(--fill-color);\n",
              "    animation:\n",
              "      spin 1s steps(1) infinite;\n",
              "  }\n",
              "\n",
              "  @keyframes spin {\n",
              "    0% {\n",
              "      border-color: transparent;\n",
              "      border-bottom-color: var(--fill-color);\n",
              "      border-left-color: var(--fill-color);\n",
              "    }\n",
              "    20% {\n",
              "      border-color: transparent;\n",
              "      border-left-color: var(--fill-color);\n",
              "      border-top-color: var(--fill-color);\n",
              "    }\n",
              "    30% {\n",
              "      border-color: transparent;\n",
              "      border-left-color: var(--fill-color);\n",
              "      border-top-color: var(--fill-color);\n",
              "      border-right-color: var(--fill-color);\n",
              "    }\n",
              "    40% {\n",
              "      border-color: transparent;\n",
              "      border-right-color: var(--fill-color);\n",
              "      border-top-color: var(--fill-color);\n",
              "    }\n",
              "    60% {\n",
              "      border-color: transparent;\n",
              "      border-right-color: var(--fill-color);\n",
              "    }\n",
              "    80% {\n",
              "      border-color: transparent;\n",
              "      border-right-color: var(--fill-color);\n",
              "      border-bottom-color: var(--fill-color);\n",
              "    }\n",
              "    90% {\n",
              "      border-color: transparent;\n",
              "      border-bottom-color: var(--fill-color);\n",
              "    }\n",
              "  }\n",
              "</style>\n",
              "\n",
              "  <script>\n",
              "    async function quickchart(key) {\n",
              "      const quickchartButtonEl =\n",
              "        document.querySelector('#' + key + ' button');\n",
              "      quickchartButtonEl.disabled = true;  // To prevent multiple clicks.\n",
              "      quickchartButtonEl.classList.add('colab-df-spinner');\n",
              "      try {\n",
              "        const charts = await google.colab.kernel.invokeFunction(\n",
              "            'suggestCharts', [key], {});\n",
              "      } catch (error) {\n",
              "        console.error('Error during call to suggestCharts:', error);\n",
              "      }\n",
              "      quickchartButtonEl.classList.remove('colab-df-spinner');\n",
              "      quickchartButtonEl.classList.add('colab-df-quickchart-complete');\n",
              "    }\n",
              "    (() => {\n",
              "      let quickchartButtonEl =\n",
              "        document.querySelector('#df-61a59cb9-f874-493c-94d8-5b3bee0bf46c button');\n",
              "      quickchartButtonEl.style.display =\n",
              "        google.colab.kernel.accessAllowed ? 'block' : 'none';\n",
              "    })();\n",
              "  </script>\n",
              "</div>\n",
              "    </div>\n",
              "  </div>\n"
            ]
          },
          "metadata": {},
          "execution_count": 3
        }
      ]
    },
    {
      "cell_type": "markdown",
      "source": [
        "## Word2Vec Embeddings"
      ],
      "metadata": {
        "id": "VE4ral80YP-c"
      }
    },
    {
      "cell_type": "code",
      "source": [
        "sentences = content_dfrm['text'].str.split().tolist()\n",
        "w2v_model = Word2Vec(sentences, vector_size=100, window=5, min_count=1, workers=4)\n",
        "\n",
        "vocab = {\"<PAD>\": 0, \"<UNK>\": 1}\n",
        "embedding_matrix = [torch.zeros(100), torch.randn(100)]\n",
        "\n",
        "for word in w2v_model.wv.index_to_key:\n",
        "    vocab[word] = len(vocab)\n",
        "    embedding_matrix.append(torch.FloatTensor(w2v_model.wv[word].copy()))\n",
        "\n",
        "embedding_matrix = torch.stack(embedding_matrix)"
      ],
      "metadata": {
        "id": "rrx25KDkpUFC"
      },
      "execution_count": null,
      "outputs": []
    },
    {
      "cell_type": "markdown",
      "source": [
        "## Custom dataset for Content"
      ],
      "metadata": {
        "id": "59MKHcsq1Afj"
      }
    },
    {
      "cell_type": "code",
      "source": [
        "class ContentDataset(Dataset):\n",
        "    def __init__(self, dfrm, vocab):\n",
        "        self.dfrm = dfrm\n",
        "        self.vocab = vocab\n",
        "\n",
        "    def __len__(self):\n",
        "        return len(self.dfrm)\n",
        "\n",
        "    def __getitem__(self, idx):\n",
        "        text = self.dfrm.iloc[idx]['text'].split()\n",
        "        text_indices = [self.vocab.get(word, self.vocab[\"<UNK>\"]) for word in text]\n",
        "\n",
        "        features = list(self.dfrm.iloc[idx][['mistakes', 'n_sentences', 'punctuation_count', 'unique_word_count', 'adj_adv_count']].values)\n",
        "\n",
        "        return torch.LongTensor(text_indices), torch.FloatTensor(features), torch.FloatTensor([self.dfrm.iloc[idx]['content']]), len(text_indices)"
      ],
      "metadata": {
        "id": "1T5VX5PQpoLT"
      },
      "execution_count": null,
      "outputs": []
    },
    {
      "cell_type": "markdown",
      "source": [
        "## Custom dataset for Wording"
      ],
      "metadata": {
        "id": "Uar_4nvrZa_1"
      }
    },
    {
      "cell_type": "code",
      "source": [
        "class WordingDataset(Dataset):\n",
        "    def __init__(self, dfrm, vocab):\n",
        "        self.dfrm = dfrm\n",
        "        self.vocab = vocab\n",
        "\n",
        "    def __len__(self):\n",
        "        return len(self.dfrm)\n",
        "\n",
        "    def __getitem__(self, idx):\n",
        "        text = self.dfrm.iloc[idx]['text'].split()\n",
        "        text_indices = [self.vocab.get(word, self.vocab[\"<UNK>\"]) for word in text]\n",
        "\n",
        "        features = self.dfrm.iloc[idx][['cite', 'mistakes', 'n_sentences', 'punctuation_count', 'unique_word_count', 'adj_adv_count', 'fk_score']].values\n",
        "\n",
        "        return torch.LongTensor(text_indices), torch.FloatTensor(features), torch.FloatTensor([self.dfrm.iloc[idx]['wording']]), len(text_indices)"
      ],
      "metadata": {
        "id": "Ap0MsBFZpwG3"
      },
      "execution_count": null,
      "outputs": []
    },
    {
      "cell_type": "markdown",
      "source": [
        "When creating batches, all text sequences in a batch should have the same length"
      ],
      "metadata": {
        "id": "BOHdJbPmtf3d"
      }
    },
    {
      "cell_type": "code",
      "source": [
        "def collate_fn(batch):\n",
        "    texts, features, targets, lengths = zip(*batch)\n",
        "\n",
        "    max_length = max(lengths)\n",
        "\n",
        "    texts_padded = [torch.cat([text, torch.zeros(max_length - len(text)).long()]) for text in texts]\n",
        "\n",
        "    return torch.stack(texts_padded), torch.stack(features), torch.stack(targets)"
      ],
      "metadata": {
        "id": "TEB8pX2As5cb"
      },
      "execution_count": null,
      "outputs": []
    },
    {
      "cell_type": "markdown",
      "source": [
        "## Modeling"
      ],
      "metadata": {
        "id": "nyHGdNd_Z_V_"
      }
    },
    {
      "cell_type": "markdown",
      "source": [
        "I decided to create simple custom class for GRU model (bidirectional). The difference between content and wording models only in size of input features for dense layer."
      ],
      "metadata": {
        "id": "ogHlIBkJaApM"
      }
    },
    {
      "cell_type": "code",
      "source": [
        "class ContentGRU(nn.Module):\n",
        "    def __init__(self, embedding_matrix, input_dim, hidden_dim, num_layers, dropout):\n",
        "        super(ContentGRU, self).__init__()\n",
        "        self.embedding = nn.Embedding.from_pretrained(embedding_matrix, freeze=True)\n",
        "        self.gru = nn.GRU(input_dim, hidden_dim, num_layers, batch_first=True, bidirectional=True, dropout=dropout)\n",
        "        self.fc = nn.Linear(hidden_dim*2 + 5, 1)\n",
        "\n",
        "    def forward(self, x_text, x_features):\n",
        "        embedded = self.embedding(x_text)\n",
        "        h, _ = self.gru(embedded)\n",
        "        h = h[:, -1, :]\n",
        "        combined = torch.cat((h, x_features), dim=1)\n",
        "        return self.fc(combined)"
      ],
      "metadata": {
        "id": "ire5IWe6aMSw"
      },
      "execution_count": null,
      "outputs": []
    },
    {
      "cell_type": "code",
      "source": [
        "class WordingGRU(nn.Module):\n",
        "    def __init__(self, input_dim, hidden_dim, num_layers, dropout):\n",
        "        super(WordingGRU, self).__init__()\n",
        "        self.embedding = nn.Embedding.from_pretrained(embedding_matrix, freeze=True)\n",
        "        self.gru = nn.GRU(input_dim, hidden_dim, num_layers, batch_first=True, bidirectional=True, dropout=dropout)\n",
        "        self.fc = nn.Linear(hidden_dim*2 + 7, 1)\n",
        "\n",
        "    def forward(self, x_text, x_features):\n",
        "        embedded = self.embedding(x_text)\n",
        "        h, _ = self.gru(embedded)\n",
        "        h = h[:, -1, :]\n",
        "        combined = torch.cat((h, x_features), dim=1)\n",
        "        return self.fc(combined)"
      ],
      "metadata": {
        "id": "zE0r9nAbaZDE"
      },
      "execution_count": null,
      "outputs": []
    },
    {
      "cell_type": "markdown",
      "source": [
        "Train and validation loops (return rmse as metric)"
      ],
      "metadata": {
        "id": "OIPPKtrua59t"
      }
    },
    {
      "cell_type": "code",
      "source": [
        "def train(model, dataloader, criterion, optimizer):\n",
        "    model.train()\n",
        "    total_loss = 0.0\n",
        "    for x_text, x_features, y in dataloader:\n",
        "        optimizer.zero_grad()\n",
        "        outputs = model(x_text, x_features)\n",
        "        y = y.float()\n",
        "        loss = criterion(outputs, y)\n",
        "        loss.backward()\n",
        "        optimizer.step()\n",
        "        total_loss += mse_loss(outputs.squeeze(1), y).item()\n",
        "    return (total_loss / len(dataloader)) ** 0.5\n",
        "\n",
        "def validate(model, dataloader, criterion):\n",
        "    model.eval()\n",
        "    total_loss = 0.0\n",
        "    with torch.no_grad():\n",
        "        for x_text, x_features, y in dataloader:\n",
        "            outputs = model(x_text, x_features)\n",
        "            y = y.float()\n",
        "            loss = criterion(outputs, y)\n",
        "            total_loss += mse_loss(outputs.squeeze(1), y).item()\n",
        "    return (total_loss / len(dataloader)) ** 0.5"
      ],
      "metadata": {
        "id": "-anopeT2a7x_"
      },
      "execution_count": null,
      "outputs": []
    },
    {
      "cell_type": "markdown",
      "source": [
        "## Training"
      ],
      "metadata": {
        "id": "N9c2YB5UcTLz"
      }
    },
    {
      "cell_type": "markdown",
      "source": [
        "### Content"
      ],
      "metadata": {
        "id": "bU1qUMRxcpEC"
      }
    },
    {
      "cell_type": "code",
      "source": [
        "n_splits = 4\n",
        "group_kfold = GroupKFold(n_splits=n_splits)\n",
        "\n",
        "train_losses_content, val_losses_content = [], []\n",
        "\n",
        "best_loss = float('inf')\n",
        "best_state_dict = None\n",
        "folds = 0\n",
        "\n",
        "\n",
        "for train_idx, val_idx in group_kfold.split(content_dfrm, content_dfrm['content'], content_dfrm['prompt_id']):\n",
        "    folds += 1\n",
        "    print(f\"Fold: {folds}\\n\")\n",
        "    train_data, val_data = content_dfrm.iloc[train_idx], content_dfrm.iloc[val_idx]\n",
        "\n",
        "    train_dataset = ContentDataset(train_data, vocab)\n",
        "    val_dataset = ContentDataset(val_data, vocab)\n",
        "\n",
        "    train_loader = DataLoader(train_dataset, batch_size=128, shuffle=True, collate_fn=collate_fn)\n",
        "    val_loader = DataLoader(val_dataset, batch_size=64, collate_fn=collate_fn)\n",
        "\n",
        "    model = ContentGRU(embedding_matrix, input_dim=100, hidden_dim=50, num_layers=2, dropout=0.3)\n",
        "\n",
        "    criterion = nn.MSELoss()\n",
        "    optimizer = torch.optim.Adam(model.parameters(), lr=0.01)\n",
        "\n",
        "    epochs = 10\n",
        "    for epoch in range(epochs):\n",
        "        train_loss = train(model, train_loader, criterion, optimizer)\n",
        "        val_loss = validate(model, val_loader, criterion)\n",
        "        print(f\"Epoch {epoch+1}/{epochs} - Train RMSE: {train_loss:.4f}, Val RMSE: {val_loss:.4f}\")\n",
        "\n",
        "        train_losses_content.append(train_loss)\n",
        "        val_losses_content.append(val_loss)\n",
        "\n",
        "        if val_loss < best_loss:\n",
        "            best_loss = val_loss\n",
        "            best_state_dict_content = model.state_dict()"
      ],
      "metadata": {
        "colab": {
          "base_uri": "https://localhost:8080/"
        },
        "id": "njlIF7oEcUXN",
        "outputId": "6cd2c94b-eb5b-4aa0-d339-2f0dbfa7630f"
      },
      "execution_count": null,
      "outputs": [
        {
          "output_type": "stream",
          "name": "stdout",
          "text": [
            "Fold: 1\n",
            "\n"
          ]
        },
        {
          "output_type": "stream",
          "name": "stderr",
          "text": [
            "/usr/local/lib/python3.10/dist-packages/torch/nn/modules/loss.py:535: UserWarning: Using a target size (torch.Size([32])) that is different to the input size (torch.Size([32, 1])). This will likely lead to incorrect results due to broadcasting. Please ensure they have the same size.\n",
            "  return F.mse_loss(input, target, reduction=self.reduction)\n",
            "/usr/local/lib/python3.10/dist-packages/torch/nn/modules/loss.py:535: UserWarning: Using a target size (torch.Size([20])) that is different to the input size (torch.Size([20, 1])). This will likely lead to incorrect results due to broadcasting. Please ensure they have the same size.\n",
            "  return F.mse_loss(input, target, reduction=self.reduction)\n",
            "/usr/local/lib/python3.10/dist-packages/torch/nn/modules/loss.py:535: UserWarning: Using a target size (torch.Size([9])) that is different to the input size (torch.Size([9, 1])). This will likely lead to incorrect results due to broadcasting. Please ensure they have the same size.\n",
            "  return F.mse_loss(input, target, reduction=self.reduction)\n"
          ]
        },
        {
          "output_type": "stream",
          "name": "stdout",
          "text": [
            "Epoch 1/10 - Train RMSE: 1.0755, Val RMSE: 0.9197\n",
            "Epoch 2/10 - Train RMSE: 1.0704, Val RMSE: 0.9900\n",
            "Epoch 3/10 - Train RMSE: 1.0751, Val RMSE: 0.9334\n",
            "Epoch 4/10 - Train RMSE: 1.0713, Val RMSE: 0.9194\n",
            "Epoch 5/10 - Train RMSE: 1.0828, Val RMSE: 1.0061\n",
            "Epoch 6/10 - Train RMSE: 1.0600, Val RMSE: 1.2252\n",
            "Epoch 7/10 - Train RMSE: 1.0652, Val RMSE: 0.9534\n",
            "Epoch 8/10 - Train RMSE: 1.0781, Val RMSE: 0.9266\n",
            "Epoch 9/10 - Train RMSE: 1.0793, Val RMSE: 0.9621\n",
            "Epoch 10/10 - Train RMSE: 1.0638, Val RMSE: 0.9088\n",
            "Fold: 2\n",
            "\n"
          ]
        },
        {
          "output_type": "stream",
          "name": "stderr",
          "text": [
            "/usr/local/lib/python3.10/dist-packages/torch/nn/modules/loss.py:535: UserWarning: Using a target size (torch.Size([4])) that is different to the input size (torch.Size([4, 1])). This will likely lead to incorrect results due to broadcasting. Please ensure they have the same size.\n",
            "  return F.mse_loss(input, target, reduction=self.reduction)\n",
            "/usr/local/lib/python3.10/dist-packages/torch/nn/modules/loss.py:535: UserWarning: Using a target size (torch.Size([25])) that is different to the input size (torch.Size([25, 1])). This will likely lead to incorrect results due to broadcasting. Please ensure they have the same size.\n",
            "  return F.mse_loss(input, target, reduction=self.reduction)\n"
          ]
        },
        {
          "output_type": "stream",
          "name": "stdout",
          "text": [
            "Epoch 1/10 - Train RMSE: 1.0194, Val RMSE: 1.2564\n",
            "Epoch 2/10 - Train RMSE: 1.0313, Val RMSE: 0.9572\n",
            "Epoch 3/10 - Train RMSE: 1.0245, Val RMSE: 1.2207\n",
            "Epoch 4/10 - Train RMSE: 1.0224, Val RMSE: 1.0097\n",
            "Epoch 5/10 - Train RMSE: 1.0224, Val RMSE: 1.0140\n",
            "Epoch 6/10 - Train RMSE: 1.0204, Val RMSE: 1.1427\n",
            "Epoch 7/10 - Train RMSE: 1.0520, Val RMSE: 1.1638\n",
            "Epoch 8/10 - Train RMSE: 1.0060, Val RMSE: 0.9357\n",
            "Epoch 9/10 - Train RMSE: 1.0195, Val RMSE: 1.0204\n",
            "Epoch 10/10 - Train RMSE: 1.0050, Val RMSE: 1.2041\n",
            "Fold: 3\n",
            "\n"
          ]
        },
        {
          "output_type": "stream",
          "name": "stderr",
          "text": [
            "/usr/local/lib/python3.10/dist-packages/torch/nn/modules/loss.py:535: UserWarning: Using a target size (torch.Size([17])) that is different to the input size (torch.Size([17, 1])). This will likely lead to incorrect results due to broadcasting. Please ensure they have the same size.\n",
            "  return F.mse_loss(input, target, reduction=self.reduction)\n",
            "/usr/local/lib/python3.10/dist-packages/torch/nn/modules/loss.py:535: UserWarning: Using a target size (torch.Size([12])) that is different to the input size (torch.Size([12, 1])). This will likely lead to incorrect results due to broadcasting. Please ensure they have the same size.\n",
            "  return F.mse_loss(input, target, reduction=self.reduction)\n"
          ]
        },
        {
          "output_type": "stream",
          "name": "stdout",
          "text": [
            "Epoch 1/10 - Train RMSE: 1.0526, Val RMSE: 0.9358\n",
            "Epoch 2/10 - Train RMSE: 1.0679, Val RMSE: 0.9888\n",
            "Epoch 3/10 - Train RMSE: 1.0603, Val RMSE: 0.9395\n",
            "Epoch 4/10 - Train RMSE: 1.0553, Val RMSE: 0.9418\n",
            "Epoch 5/10 - Train RMSE: 1.0551, Val RMSE: 0.9134\n",
            "Epoch 6/10 - Train RMSE: 1.0839, Val RMSE: 1.0134\n",
            "Epoch 7/10 - Train RMSE: 1.0637, Val RMSE: 1.0147\n",
            "Epoch 8/10 - Train RMSE: 1.0638, Val RMSE: 1.0159\n",
            "Epoch 9/10 - Train RMSE: 1.0618, Val RMSE: 0.9241\n",
            "Epoch 10/10 - Train RMSE: 1.0628, Val RMSE: 0.9942\n",
            "Fold: 4\n",
            "\n"
          ]
        },
        {
          "output_type": "stream",
          "name": "stderr",
          "text": [
            "/usr/local/lib/python3.10/dist-packages/torch/nn/modules/loss.py:535: UserWarning: Using a target size (torch.Size([14])) that is different to the input size (torch.Size([14, 1])). This will likely lead to incorrect results due to broadcasting. Please ensure they have the same size.\n",
            "  return F.mse_loss(input, target, reduction=self.reduction)\n",
            "/usr/local/lib/python3.10/dist-packages/torch/nn/modules/loss.py:535: UserWarning: Using a target size (torch.Size([15])) that is different to the input size (torch.Size([15, 1])). This will likely lead to incorrect results due to broadcasting. Please ensure they have the same size.\n",
            "  return F.mse_loss(input, target, reduction=self.reduction)\n"
          ]
        },
        {
          "output_type": "stream",
          "name": "stdout",
          "text": [
            "Epoch 1/10 - Train RMSE: 1.0531, Val RMSE: 1.0911\n",
            "Epoch 2/10 - Train RMSE: 1.0263, Val RMSE: 1.3413\n",
            "Epoch 3/10 - Train RMSE: 1.0482, Val RMSE: 1.3298\n",
            "Epoch 4/10 - Train RMSE: 1.0123, Val RMSE: 1.2538\n",
            "Epoch 5/10 - Train RMSE: 1.0272, Val RMSE: 1.0076\n",
            "Epoch 6/10 - Train RMSE: 1.0276, Val RMSE: 1.0773\n",
            "Epoch 7/10 - Train RMSE: 1.0289, Val RMSE: 1.0387\n",
            "Epoch 8/10 - Train RMSE: 1.0234, Val RMSE: 1.1587\n",
            "Epoch 9/10 - Train RMSE: 1.0255, Val RMSE: 0.9982\n",
            "Epoch 10/10 - Train RMSE: 1.0346, Val RMSE: 1.0493\n"
          ]
        }
      ]
    },
    {
      "cell_type": "markdown",
      "source": [
        "Plotting the losses and metrics"
      ],
      "metadata": {
        "id": "k5YsuhMbcZJ7"
      }
    },
    {
      "cell_type": "code",
      "source": [
        "plt.figure(figsize=(12, 5))\n",
        "\n",
        "plt.subplot(1, 2, 1)\n",
        "plt.plot(train_losses_content, label=\"Train RMSE\")\n",
        "plt.plot(val_losses_content, label=\"Validation RMSE\", linestyle='--')\n",
        "plt.legend()\n",
        "plt.title(\"Losses over Epochs\")\n",
        "\n",
        "plt.tight_layout()\n",
        "plt.show()"
      ],
      "metadata": {
        "colab": {
          "base_uri": "https://localhost:8080/",
          "height": 507
        },
        "id": "V9eKdi-CcWVn",
        "outputId": "92f89faa-b28b-46b8-ec22-dc598f14f9c6"
      },
      "execution_count": null,
      "outputs": [
        {
          "output_type": "display_data",
          "data": {
            "text/plain": [
              "<Figure size 1200x500 with 1 Axes>"
            ],
            "image/png": "[encoded data removed]"
          },
          "metadata": {}
        }
      ]
    },
    {
      "cell_type": "markdown",
      "source": [
        "Save the best model state_dict"
      ],
      "metadata": {
        "id": "d_rUTnMRca-T"
      }
    },
    {
      "cell_type": "code",
      "source": [
        "torch.save(best_state_dict_content, \"content_gru.pt\")"
      ],
      "metadata": {
        "id": "SQMvTPypcXbp"
      },
      "execution_count": null,
      "outputs": []
    },
    {
      "cell_type": "markdown",
      "source": [
        "### Wording"
      ],
      "metadata": {
        "id": "Dg23xhuYc5M4"
      }
    },
    {
      "cell_type": "code",
      "source": [
        "n_splits = 4\n",
        "group_kfold = GroupKFold(n_splits=n_splits)\n",
        "\n",
        "train_losses_wording, val_losses_wording = [], []\n",
        "\n",
        "best_loss = float('inf')\n",
        "best_state_dict = None\n",
        "folds = 0\n",
        "\n",
        "for train_idx, val_idx in group_kfold.split(wording_dfrm, wording_dfrm['wording'], wording_dfrm['prompt_id']):\n",
        "    folds += 1\n",
        "    print(f\"Fold: {folds}\\n\")\n",
        "    train_data, val_data = wording_dfrm.iloc[train_idx], wording_dfrm.iloc[val_idx]\n",
        "\n",
        "    train_dataset = WordingDataset(train_data, vocab)\n",
        "    val_dataset = WordingDataset(val_data, vocab)\n",
        "\n",
        "    train_loader = DataLoader(train_dataset, batch_size=32, shuffle=True, collate_fn=collate_fn)\n",
        "    val_loader = DataLoader(val_dataset, batch_size=32, collate_fn=collate_fn)\n",
        "\n",
        "    model = WordingGRU(embedding_matrix, input_dim=100, hidden_dim=50, num_layers=2, dropout=0.5)\n",
        "    criterion = nn.MSELoss()\n",
        "    optimizer = torch.optim.Adam(model.parameters(), lr=0.001)\n",
        "\n",
        "    epochs = 10\n",
        "    for epoch in range(epochs):\n",
        "        train_loss = train(model, train_loader, criterion, optimizer)\n",
        "        val_loss = validate(model, val_loader, criterion)\n",
        "        print(f\"Epoch {epoch+1}/{epochs} - Train RMSE: {train_loss:.4f}, Val RMSE: {val_loss:.4f}\")\n",
        "\n",
        "        train_losses_wording.append(train_loss)\n",
        "        val_losses_wording.append(val_loss)\n",
        "\n",
        "        if val_loss < best_loss:\n",
        "            best_loss = val_loss\n",
        "            best_state_dict_wording = model.state_dict()"
      ],
      "metadata": {
        "colab": {
          "base_uri": "https://localhost:8080/"
        },
        "id": "_66Q4Rmic6Og",
        "outputId": "0afd60fa-ec6f-4b74-9c15-ebe9d3a7705c"
      },
      "execution_count": null,
      "outputs": [
        {
          "output_type": "stream",
          "name": "stdout",
          "text": [
            "Fold: 1\n",
            "\n"
          ]
        },
        {
          "output_type": "stream",
          "name": "stderr",
          "text": [
            "/usr/local/lib/python3.10/dist-packages/torch/nn/modules/loss.py:535: UserWarning: Using a target size (torch.Size([32])) that is different to the input size (torch.Size([32, 1])). This will likely lead to incorrect results due to broadcasting. Please ensure they have the same size.\n",
            "  return F.mse_loss(input, target, reduction=self.reduction)\n",
            "/usr/local/lib/python3.10/dist-packages/torch/nn/modules/loss.py:535: UserWarning: Using a target size (torch.Size([20])) that is different to the input size (torch.Size([20, 1])). This will likely lead to incorrect results due to broadcasting. Please ensure they have the same size.\n",
            "  return F.mse_loss(input, target, reduction=self.reduction)\n",
            "/usr/local/lib/python3.10/dist-packages/torch/nn/modules/loss.py:535: UserWarning: Using a target size (torch.Size([9])) that is different to the input size (torch.Size([9, 1])). This will likely lead to incorrect results due to broadcasting. Please ensure they have the same size.\n",
            "  return F.mse_loss(input, target, reduction=self.reduction)\n"
          ]
        },
        {
          "output_type": "stream",
          "name": "stdout",
          "text": [
            "Epoch 1/10 - Train RMSE: 1.7240, Val RMSE: 0.8843\n",
            "Epoch 2/10 - Train RMSE: 0.9724, Val RMSE: 1.0184\n",
            "Epoch 3/10 - Train RMSE: 1.0150, Val RMSE: 1.0365\n",
            "Epoch 4/10 - Train RMSE: 1.0150, Val RMSE: 1.0379\n",
            "Epoch 5/10 - Train RMSE: 1.0175, Val RMSE: 1.0408\n",
            "Epoch 6/10 - Train RMSE: 1.0154, Val RMSE: 1.0424\n",
            "Epoch 7/10 - Train RMSE: 1.0149, Val RMSE: 1.0482\n",
            "Epoch 8/10 - Train RMSE: 1.0172, Val RMSE: 1.0661\n",
            "Epoch 9/10 - Train RMSE: 1.0183, Val RMSE: 1.0490\n",
            "Epoch 10/10 - Train RMSE: 1.0158, Val RMSE: 1.0493\n",
            "Fold: 2\n",
            "\n"
          ]
        },
        {
          "output_type": "stream",
          "name": "stderr",
          "text": [
            "/usr/local/lib/python3.10/dist-packages/torch/nn/modules/loss.py:535: UserWarning: Using a target size (torch.Size([4])) that is different to the input size (torch.Size([4, 1])). This will likely lead to incorrect results due to broadcasting. Please ensure they have the same size.\n",
            "  return F.mse_loss(input, target, reduction=self.reduction)\n",
            "/usr/local/lib/python3.10/dist-packages/torch/nn/modules/loss.py:535: UserWarning: Using a target size (torch.Size([25])) that is different to the input size (torch.Size([25, 1])). This will likely lead to incorrect results due to broadcasting. Please ensure they have the same size.\n",
            "  return F.mse_loss(input, target, reduction=self.reduction)\n"
          ]
        },
        {
          "output_type": "stream",
          "name": "stdout",
          "text": [
            "Epoch 1/10 - Train RMSE: 1.1343, Val RMSE: 1.0859\n",
            "Epoch 2/10 - Train RMSE: 1.0442, Val RMSE: 0.9317\n",
            "Epoch 3/10 - Train RMSE: 1.0311, Val RMSE: 0.9209\n",
            "Epoch 4/10 - Train RMSE: 1.0361, Val RMSE: 0.9501\n",
            "Epoch 5/10 - Train RMSE: 1.0505, Val RMSE: 0.9524\n",
            "Epoch 6/10 - Train RMSE: 1.0535, Val RMSE: 0.9584\n",
            "Epoch 7/10 - Train RMSE: 1.0525, Val RMSE: 0.9327\n",
            "Epoch 8/10 - Train RMSE: 1.0542, Val RMSE: 0.9735\n",
            "Epoch 9/10 - Train RMSE: 1.0530, Val RMSE: 0.9337\n",
            "Epoch 10/10 - Train RMSE: 1.0526, Val RMSE: 0.9406\n",
            "Fold: 3\n",
            "\n"
          ]
        },
        {
          "output_type": "stream",
          "name": "stderr",
          "text": [
            "/usr/local/lib/python3.10/dist-packages/torch/nn/modules/loss.py:535: UserWarning: Using a target size (torch.Size([17])) that is different to the input size (torch.Size([17, 1])). This will likely lead to incorrect results due to broadcasting. Please ensure they have the same size.\n",
            "  return F.mse_loss(input, target, reduction=self.reduction)\n",
            "/usr/local/lib/python3.10/dist-packages/torch/nn/modules/loss.py:535: UserWarning: Using a target size (torch.Size([12])) that is different to the input size (torch.Size([12, 1])). This will likely lead to incorrect results due to broadcasting. Please ensure they have the same size.\n",
            "  return F.mse_loss(input, target, reduction=self.reduction)\n"
          ]
        },
        {
          "output_type": "stream",
          "name": "stdout",
          "text": [
            "Epoch 1/10 - Train RMSE: 1.3622, Val RMSE: 0.9651\n",
            "Epoch 2/10 - Train RMSE: 1.0524, Val RMSE: 0.9674\n",
            "Epoch 3/10 - Train RMSE: 1.0462, Val RMSE: 0.9629\n",
            "Epoch 4/10 - Train RMSE: 1.0491, Val RMSE: 0.9543\n",
            "Epoch 5/10 - Train RMSE: 1.0490, Val RMSE: 0.9800\n",
            "Epoch 6/10 - Train RMSE: 1.0550, Val RMSE: 0.9891\n",
            "Epoch 7/10 - Train RMSE: 1.0528, Val RMSE: 0.9806\n",
            "Epoch 8/10 - Train RMSE: 1.0551, Val RMSE: 0.9580\n",
            "Epoch 9/10 - Train RMSE: 1.0498, Val RMSE: 0.9676\n",
            "Epoch 10/10 - Train RMSE: 1.0534, Val RMSE: 0.9680\n",
            "Fold: 4\n",
            "\n"
          ]
        },
        {
          "output_type": "stream",
          "name": "stderr",
          "text": [
            "/usr/local/lib/python3.10/dist-packages/torch/nn/modules/loss.py:535: UserWarning: Using a target size (torch.Size([14])) that is different to the input size (torch.Size([14, 1])). This will likely lead to incorrect results due to broadcasting. Please ensure they have the same size.\n",
            "  return F.mse_loss(input, target, reduction=self.reduction)\n",
            "/usr/local/lib/python3.10/dist-packages/torch/nn/modules/loss.py:535: UserWarning: Using a target size (torch.Size([15])) that is different to the input size (torch.Size([15, 1])). This will likely lead to incorrect results due to broadcasting. Please ensure they have the same size.\n",
            "  return F.mse_loss(input, target, reduction=self.reduction)\n"
          ]
        },
        {
          "output_type": "stream",
          "name": "stdout",
          "text": [
            "Epoch 1/10 - Train RMSE: 1.2746, Val RMSE: 1.4406\n",
            "Epoch 2/10 - Train RMSE: 1.0208, Val RMSE: 1.4924\n",
            "Epoch 3/10 - Train RMSE: 0.9980, Val RMSE: 1.4223\n",
            "Epoch 4/10 - Train RMSE: 0.9799, Val RMSE: 1.3866\n",
            "Epoch 5/10 - Train RMSE: 0.9762, Val RMSE: 1.3360\n",
            "Epoch 6/10 - Train RMSE: 0.9798, Val RMSE: 1.3024\n",
            "Epoch 7/10 - Train RMSE: 0.9828, Val RMSE: 1.3070\n",
            "Epoch 8/10 - Train RMSE: 0.9781, Val RMSE: 1.3277\n",
            "Epoch 9/10 - Train RMSE: 0.9781, Val RMSE: 1.3153\n",
            "Epoch 10/10 - Train RMSE: 0.9758, Val RMSE: 1.2443\n"
          ]
        }
      ]
    },
    {
      "cell_type": "markdown",
      "source": [
        "Plotting the losses and metrics"
      ],
      "metadata": {
        "id": "0vcGMbwmdJw1"
      }
    },
    {
      "cell_type": "code",
      "source": [
        "plt.figure(figsize=(12, 5))\n",
        "\n",
        "plt.subplot(1, 2, 1)\n",
        "plt.plot(train_losses_wording, label=\"Train RMSE\")\n",
        "plt.plot(val_losses_wording, label=\"Validation RMSE\", linestyle='--')\n",
        "plt.legend()\n",
        "plt.title(\"Losses over Epochs\")\n",
        "\n",
        "plt.tight_layout()\n",
        "plt.show()"
      ],
      "metadata": {
        "colab": {
          "base_uri": "https://localhost:8080/",
          "height": 507
        },
        "id": "V2wAEfpMdKLY",
        "outputId": "47fb694e-dd6a-493a-c5be-00befa49979f"
      },
      "execution_count": null,
      "outputs": [
        {
          "output_type": "display_data",
          "data": {
            "text/plain": [
              "<Figure size 1200x500 with 1 Axes>"
            ],
            "image/png": "[encoded data removed]"
          },
          "metadata": {}
        }
      ]
    },
    {
      "cell_type": "code",
      "source": [
        "torch.save(best_state_dict_wording, \"wording_gru.pt\")"
      ],
      "metadata": {
        "id": "Xtso1AOjdLdK"
      },
      "execution_count": null,
      "outputs": []
    },
    {
      "cell_type": "markdown",
      "source": [
        "I want to plot final metrics on each fold"
      ],
      "metadata": {
        "id": "URZSdoUweY2m"
      }
    },
    {
      "cell_type": "code",
      "source": [
        "mean_rmse_train = [(c + w) / 2 for c, w in zip(train_losses_content, train_losses_wording)]\n",
        "mean_rmse_valid = [(c + w) / 2 for c, w in zip(val_losses_content, val_losses_wording)]\n",
        "\n",
        "folds = list(range(1, len(mean_rmse_train) + 1))\n",
        "plt.figure(figsize=(10, 6))\n",
        "plt.plot(folds, mean_rmse_train, '-o', label='Mean RMSE Train', color='green')\n",
        "plt.plot(folds, mean_rmse_valid, '--o', label='Mean RMSE Valid', color='blue', linestyle='dashed')\n",
        "\n",
        "plt.xlabel('Fold')\n",
        "plt.ylabel('RMSE')\n",
        "plt.title('RMSE across Folds')\n",
        "plt.xticks(folds)\n",
        "plt.legend()\n",
        "plt.grid(True)\n",
        "plt.tight_layout()\n",
        "plt.show()"
      ],
      "metadata": {
        "colab": {
          "base_uri": "https://localhost:8080/",
          "height": 663
        },
        "id": "PoQUO_bXedAJ",
        "outputId": "ff7d587b-be13-4f30-bcae-3159e857c8ca"
      },
      "execution_count": null,
      "outputs": [
        {
          "output_type": "stream",
          "name": "stderr",
          "text": [
            "<ipython-input-144-3f52ce87f4fe>:7: UserWarning: linestyle is redundantly defined by the 'linestyle' keyword argument and the fmt string \"--o\" (-> linestyle='--'). The keyword argument will take precedence.\n",
            "  plt.plot(folds, mean_rmse_valid, '--o', label='Mean RMSE Valid', color='blue', linestyle='dashed')\n"
          ]
        },
        {
          "output_type": "display_data",
          "data": {
            "text/plain": [
              "<Figure size 1000x600 with 1 Axes>"
            ],
            "image/png": "[encoded data removed]"
          },
          "metadata": {}
        }
      ]
    },
    {
      "cell_type": "markdown",
      "source": [
        "## Submission to Kaggle"
      ],
      "metadata": {
        "id": "PtxB9MRC2lxJ"
      }
    },
    {
      "cell_type": "markdown",
      "source": [
        "<a href=\"\">Submission notebook here</a>"
      ],
      "metadata": {
        "id": "S565Zdcu4sDW"
      }
    }
  ]
}